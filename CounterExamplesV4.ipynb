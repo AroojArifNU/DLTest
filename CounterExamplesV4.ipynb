{
  "cells": [
    {
      "cell_type": "code",
      "execution_count": 1,
      "metadata": {
        "colab": {
          "base_uri": "https://localhost:8080/"
        },
        "id": "CFIvVCjuYS9P",
        "outputId": "d1d99e2e-4f5d-42e8-f315-2ad0b43ab575"
      },
      "outputs": [
        {
          "output_type": "stream",
          "name": "stdout",
          "text": [
            "Requirement already satisfied: adversarial-robustness-toolbox in /usr/local/lib/python3.10/dist-packages (1.16.0)\n",
            "Requirement already satisfied: numpy>=1.18.0 in /usr/local/lib/python3.10/dist-packages (from adversarial-robustness-toolbox) (1.23.5)\n",
            "Requirement already satisfied: scipy>=1.4.1 in /usr/local/lib/python3.10/dist-packages (from adversarial-robustness-toolbox) (1.11.3)\n",
            "Requirement already satisfied: scikit-learn<1.2.0,>=0.22.2 in /usr/local/lib/python3.10/dist-packages (from adversarial-robustness-toolbox) (1.1.3)\n",
            "Requirement already satisfied: six in /usr/local/lib/python3.10/dist-packages (from adversarial-robustness-toolbox) (1.16.0)\n",
            "Requirement already satisfied: setuptools in /usr/local/lib/python3.10/dist-packages (from adversarial-robustness-toolbox) (67.7.2)\n",
            "Requirement already satisfied: tqdm in /usr/local/lib/python3.10/dist-packages (from adversarial-robustness-toolbox) (4.66.1)\n",
            "Requirement already satisfied: joblib>=1.0.0 in /usr/local/lib/python3.10/dist-packages (from scikit-learn<1.2.0,>=0.22.2->adversarial-robustness-toolbox) (1.3.2)\n",
            "Requirement already satisfied: threadpoolctl>=2.0.0 in /usr/local/lib/python3.10/dist-packages (from scikit-learn<1.2.0,>=0.22.2->adversarial-robustness-toolbox) (3.2.0)\n"
          ]
        }
      ],
      "source": [
        "pip install adversarial-robustness-toolbox"
      ]
    },
    {
      "cell_type": "markdown",
      "metadata": {
        "id": "ozdJgf4g2W99"
      },
      "source": [
        "# **Traiin Model and save correct predicted data in saperate variable**"
      ]
    },
    {
      "cell_type": "code",
      "source": [
        "from keras.datasets import mnist\n",
        "import numpy as np\n",
        "\n",
        "# Load the MNIST dataset\n",
        "(x_train, y_train), (x_test, y_test) = mnist.load_data()\n",
        "\n",
        "# Combine the training and test datasets\n",
        "all_images = np.concatenate((x_train, x_test))\n",
        "all_labels = np.concatenate((y_train, y_test))\n",
        "\n",
        "# Basic info about the dataset\n",
        "print(\"Basic Information:\")\n",
        "print(f\"Total number of images: {all_images.shape[0]}\")\n",
        "print(f\"Size of each image: {all_images.shape[1:]}\")\n",
        "print(f\"Number of unique labels: {np.unique(all_labels).size}\")\n",
        "\n",
        "# Count the occurrences of each label in the combined dataset\n",
        "unique, counts = np.unique(all_labels, return_counts=True)\n",
        "total_label_counts = dict(zip(unique, counts))\n",
        "\n",
        "# Display the counts for each label\n",
        "print(\"\\nDistribution of Labels:\")\n",
        "for label, count in total_label_counts.items():\n",
        "    print(f\"Label {label}: {count}\")\n",
        "\n",
        "# Pixel intensity statistics\n",
        "print(\"\\nPixel Intensity Statistics:\")\n",
        "pixel_values = all_images.flatten()\n",
        "print(f\"Minimum pixel value: {pixel_values.min()}\")\n",
        "print(f\"Maximum pixel value: {pixel_values.max()}\")\n",
        "print(f\"Mean pixel value: {pixel_values.mean():.2f}\")\n",
        "print(f\"Standard deviation of pixel values: {pixel_values.std():.2f}\")\n",
        "\n",
        "# Check for balance in the dataset\n",
        "print(\"\\nBalance Check:\")\n",
        "balanced = all(np.array(list(total_label_counts.values())) == list(total_label_counts.values())[0])\n",
        "print(\"The dataset is\", \"balanced\" if balanced else \"not balanced\", \"across different labels.\")\n"
      ],
      "metadata": {
        "colab": {
          "base_uri": "https://localhost:8080/"
        },
        "id": "0McmmsbW0Ni6",
        "outputId": "9fb3cf20-c607-442e-eb7f-10f278f02df1"
      },
      "execution_count": 29,
      "outputs": [
        {
          "output_type": "stream",
          "name": "stdout",
          "text": [
            "Basic Information:\n",
            "Total number of images: 70000\n",
            "Size of each image: (28, 28)\n",
            "Number of unique labels: 10\n",
            "\n",
            "Distribution of Labels:\n",
            "Label 0: 6903\n",
            "Label 1: 7877\n",
            "Label 2: 6990\n",
            "Label 3: 7141\n",
            "Label 4: 6824\n",
            "Label 5: 6313\n",
            "Label 6: 6876\n",
            "Label 7: 7293\n",
            "Label 8: 6825\n",
            "Label 9: 6958\n",
            "\n",
            "Pixel Intensity Statistics:\n",
            "Minimum pixel value: 0\n",
            "Maximum pixel value: 255\n",
            "Mean pixel value: 33.39\n",
            "Standard deviation of pixel values: 78.65\n",
            "\n",
            "Balance Check:\n",
            "The dataset is not balanced across different labels.\n"
          ]
        }
      ]
    },
    {
      "cell_type": "code",
      "source": [
        "all_labels.shape"
      ],
      "metadata": {
        "colab": {
          "base_uri": "https://localhost:8080/"
        },
        "id": "GC9QczlFCbdp",
        "outputId": "59b5cd6b-47aa-44f9-cb68-44400381c906"
      },
      "execution_count": 3,
      "outputs": [
        {
          "output_type": "execute_result",
          "data": {
            "text/plain": [
              "(70000,)"
            ]
          },
          "metadata": {},
          "execution_count": 3
        }
      ]
    },
    {
      "cell_type": "code",
      "source": [
        "# Import necessary libraries\n",
        "from keras.datasets import mnist\n",
        "from keras.models import Sequential\n",
        "from keras.layers import Conv2D, MaxPooling2D, Flatten, Dense\n",
        "from keras.utils import to_categorical\n",
        "import numpy as np\n",
        "\n",
        "# Load the MNIST dataset\n",
        "(x_train, y_train), (x_test, y_test) = mnist.load_data()\n",
        "\n",
        "# Combine the training and test labels\n",
        "all_labels = np.concatenate((y_train, y_test))\n",
        "\n",
        "# Count the occurrences of each label in the combined dataset\n",
        "unique, counts = np.unique(all_labels, return_counts=True)\n",
        "total_label_counts = dict(zip(unique, counts))\n",
        "\n",
        "# Display the counts for each label\n",
        "print(\"Total label counts for the entire MNIST dataset:\")\n",
        "for label, count in total_label_counts.items():\n",
        "    print(f\"Label {label}: {count}\")\n",
        "\n",
        "# Count the occurrences of each label in the training set\n",
        "unique, counts = np.unique(y_train, return_counts=True)\n",
        "train_label_counts = dict(zip(unique, counts))\n",
        "print(\"Training set label counts:\", train_label_counts)\n",
        "for label, count in train_label_counts.items():\n",
        "    print(f\"Label {label}: {count}\")\n",
        "\n",
        "# Count the occurrences of each label in the test set\n",
        "unique, counts = np.unique(y_test, return_counts=True)\n",
        "test_label_counts = dict(zip(unique, counts))\n",
        "print(\"Test set label counts:\", test_label_counts)\n",
        "for label, count in test_label_counts.items():\n",
        "    print(f\"Label {label}: {count}\")\n",
        "\n",
        "\n",
        "\n",
        "# The total number of labels is the number of images, which is the length of the label arrays\n",
        "total_all_labels_count = len(y_train) + len(y_test)\n",
        "total_y_train_count = len(y_train)\n",
        "total_y_test_count = len(y_test)\n",
        "\n",
        "# Display the total count of images for the entire dataset, training set, and test set\n",
        "print(f\"Total number of images in the entire MNIST dataset: {total_all_labels_count}\")\n",
        "print(f\"Total number of images in the training set: {total_y_train_count}\")\n",
        "print(f\"Total number of images in the test set: {total_y_test_count}\")\n",
        "\n"
      ],
      "metadata": {
        "colab": {
          "base_uri": "https://localhost:8080/"
        },
        "id": "Sr-4TFZ41WPC",
        "outputId": "9b787ade-5a88-4927-d023-9c8b3995d0be"
      },
      "execution_count": 30,
      "outputs": [
        {
          "output_type": "stream",
          "name": "stdout",
          "text": [
            "Total label counts for the entire MNIST dataset:\n",
            "Label 0: 6903\n",
            "Label 1: 7877\n",
            "Label 2: 6990\n",
            "Label 3: 7141\n",
            "Label 4: 6824\n",
            "Label 5: 6313\n",
            "Label 6: 6876\n",
            "Label 7: 7293\n",
            "Label 8: 6825\n",
            "Label 9: 6958\n",
            "Training set label counts: {0: 5923, 1: 6742, 2: 5958, 3: 6131, 4: 5842, 5: 5421, 6: 5918, 7: 6265, 8: 5851, 9: 5949}\n",
            "Label 0: 5923\n",
            "Label 1: 6742\n",
            "Label 2: 5958\n",
            "Label 3: 6131\n",
            "Label 4: 5842\n",
            "Label 5: 5421\n",
            "Label 6: 5918\n",
            "Label 7: 6265\n",
            "Label 8: 5851\n",
            "Label 9: 5949\n",
            "Test set label counts: {0: 980, 1: 1135, 2: 1032, 3: 1010, 4: 982, 5: 892, 6: 958, 7: 1028, 8: 974, 9: 1009}\n",
            "Label 0: 980\n",
            "Label 1: 1135\n",
            "Label 2: 1032\n",
            "Label 3: 1010\n",
            "Label 4: 982\n",
            "Label 5: 892\n",
            "Label 6: 958\n",
            "Label 7: 1028\n",
            "Label 8: 974\n",
            "Label 9: 1009\n",
            "Total number of images in the entire MNIST dataset: 70000\n",
            "Total number of images in the training set: 60000\n",
            "Total number of images in the test set: 10000\n"
          ]
        }
      ]
    },
    {
      "cell_type": "code",
      "source": [
        "all_labels.shape"
      ],
      "metadata": {
        "colab": {
          "base_uri": "https://localhost:8080/"
        },
        "id": "27LhpDSoDAIz",
        "outputId": "7994b1af-e27b-4ce7-be23-64d6d16b6e18"
      },
      "execution_count": 5,
      "outputs": [
        {
          "output_type": "execute_result",
          "data": {
            "text/plain": [
              "(70000,)"
            ]
          },
          "metadata": {},
          "execution_count": 5
        }
      ]
    },
    {
      "cell_type": "code",
      "source": [
        "y_train.shape"
      ],
      "metadata": {
        "colab": {
          "base_uri": "https://localhost:8080/"
        },
        "id": "UeXwKQ4ICxbd",
        "outputId": "c3e00fc9-ac9b-4d33-fd05-a7b4169eaaef"
      },
      "execution_count": 6,
      "outputs": [
        {
          "output_type": "execute_result",
          "data": {
            "text/plain": [
              "(60000,)"
            ]
          },
          "metadata": {},
          "execution_count": 6
        }
      ]
    },
    {
      "cell_type": "code",
      "source": [
        "y_test.shape"
      ],
      "metadata": {
        "colab": {
          "base_uri": "https://localhost:8080/"
        },
        "id": "F1AgRkY3Czpd",
        "outputId": "27fe1e3c-9650-4754-b8e1-baf7a125d5ff"
      },
      "execution_count": 7,
      "outputs": [
        {
          "output_type": "execute_result",
          "data": {
            "text/plain": [
              "(10000,)"
            ]
          },
          "metadata": {},
          "execution_count": 7
        }
      ]
    },
    {
      "cell_type": "code",
      "execution_count": 8,
      "metadata": {
        "colab": {
          "base_uri": "https://localhost:8080/"
        },
        "id": "zQwQrhGxaDhI",
        "outputId": "9cb051fa-35ac-42ba-a0e1-c0e8aba10ab0"
      },
      "outputs": [
        {
          "output_type": "stream",
          "name": "stdout",
          "text": [
            "Epoch 1/20\n",
            "300/300 - 42s - loss: 0.2662 - accuracy: 0.9259 - 42s/epoch - 139ms/step\n",
            "Epoch 2/20\n",
            "300/300 - 22s - loss: 0.0821 - accuracy: 0.9761 - 22s/epoch - 72ms/step\n",
            "Epoch 3/20\n",
            "300/300 - 23s - loss: 0.0552 - accuracy: 0.9838 - 23s/epoch - 76ms/step\n",
            "Epoch 4/20\n",
            "300/300 - 21s - loss: 0.0405 - accuracy: 0.9884 - 21s/epoch - 70ms/step\n",
            "Epoch 5/20\n",
            "Epoch 6/20\n",
            "300/300 - 23s - loss: 0.0247 - accuracy: 0.9925 - 23s/epoch - 78ms/step\n",
            "Epoch 7/20\n",
            "300/300 - 22s - loss: 0.0186 - accuracy: 0.9948 - 22s/epoch - 72ms/step\n",
            "Epoch 8/20\n",
            "300/300 - 22s - loss: 0.0147 - accuracy: 0.9960 - 22s/epoch - 73ms/step\n",
            "Epoch 9/20\n",
            "300/300 - 20s - loss: 0.0112 - accuracy: 0.9970 - 20s/epoch - 68ms/step\n",
            "Epoch 10/20\n",
            "300/300 - 22s - loss: 0.0081 - accuracy: 0.9980 - 22s/epoch - 73ms/step\n",
            "Epoch 11/20\n",
            "300/300 - 22s - loss: 0.0076 - accuracy: 0.9980 - 22s/epoch - 73ms/step\n",
            "Epoch 12/20\n",
            "300/300 - 21s - loss: 0.0053 - accuracy: 0.9987 - 21s/epoch - 69ms/step\n",
            "Epoch 13/20\n",
            "300/300 - 22s - loss: 0.0050 - accuracy: 0.9987 - 22s/epoch - 73ms/step\n",
            "Epoch 14/20\n",
            "300/300 - 21s - loss: 0.0037 - accuracy: 0.9991 - 21s/epoch - 70ms/step\n",
            "Epoch 15/20\n",
            "300/300 - 21s - loss: 0.0033 - accuracy: 0.9994 - 21s/epoch - 69ms/step\n",
            "Epoch 16/20\n",
            "300/300 - 23s - loss: 0.0024 - accuracy: 0.9995 - 23s/epoch - 77ms/step\n",
            "Epoch 17/20\n",
            "300/300 - 22s - loss: 0.0019 - accuracy: 0.9997 - 22s/epoch - 73ms/step\n",
            "Epoch 18/20\n",
            "300/300 - 23s - loss: 0.0057 - accuracy: 0.9981 - 23s/epoch - 76ms/step\n",
            "Epoch 19/20\n",
            "300/300 - 22s - loss: 0.0029 - accuracy: 0.9992 - 22s/epoch - 75ms/step\n",
            "Epoch 20/20\n",
            "300/300 - 22s - loss: 0.0025 - accuracy: 0.9993 - 22s/epoch - 73ms/step\n"
          ]
        },
        {
          "output_type": "stream",
          "name": "stderr",
          "text": [
            "/usr/local/lib/python3.10/dist-packages/keras/src/engine/training.py:3079: UserWarning: You are saving your model as an HDF5 file via `model.save()`. This file format is considered legacy. We recommend using instead the native Keras format, e.g. `model.save('my_model.keras')`.\n",
            "  saving_api.save_model(\n"
          ]
        },
        {
          "output_type": "stream",
          "name": "stdout",
          "text": [
            "313/313 [==============================] - 2s 7ms/step\n",
            "Test accuracy: 0.987\n"
          ]
        }
      ],
      "source": [
        "# Preprocess the data\n",
        "# Reshape the data to fit the model\n",
        "x_train = x_train.reshape(60000, 28, 28, 1).astype('float32') / 255\n",
        "x_test = x_test.reshape(10000, 28, 28, 1).astype('float32') / 255\n",
        "# One-hot encode the labels\n",
        "y_train = to_categorical(y_train, 10)\n",
        "y_test_categorical = to_categorical(y_test, 10)\n",
        "\n",
        "# Define the model\n",
        "model = Sequential([\n",
        "    Conv2D(32, kernel_size=(3, 3), activation='relu', input_shape=(28, 28, 1)),  # Convolutional layer\n",
        "    MaxPooling2D(pool_size=(2, 2)),  # Pooling layer\n",
        "    Flatten(),  # Flatten layer\n",
        "    Dense(128, activation='relu'),  # Fully connected layer\n",
        "    Dense(10, activation='softmax'),  # Output layer\n",
        "])\n",
        "\n",
        "# Compile the model\n",
        "model.compile(loss='categorical_crossentropy', optimizer='adam', metrics=['accuracy'])\n",
        "\n",
        "# Train the model\n",
        "model.fit(x_train, y_train, epochs=20, batch_size=200, verbose=2)\n",
        "\n",
        "# Save the model\n",
        "model.save('/content/drive/MyDrive/ColabNotebooks/mnist_model.h5')\n",
        "\n",
        "# Get the model's predictions on the test data\n",
        "predictions = model.predict(x_test)\n",
        "predicted_labels = np.argmax(predictions, axis=1)\n",
        "\n",
        "# Evaluate the model on the test data\n",
        "loss, accuracy = model.evaluate(x_test, y_test_categorical, verbose=0)\n",
        "print(f'Test accuracy: {accuracy:.3f}')\n",
        "\n",
        "# Save only the examples that the model identifies correctly\n",
        "correct_indices = predicted_labels == y_test\n",
        "correct_examples = x_test[correct_indices]\n",
        "correct_labels = y_test[correct_indices]\n",
        "\n",
        "# Save the correct examples and their labels\n",
        "np.save('/content/drive/MyDrive/ColabNotebooks/correct_examples.npy', correct_examples)\n",
        "np.save('/content/drive/MyDrive/ColabNotebooks/correct_labels.npy', correct_labels)\n",
        "\n"
      ]
    },
    {
      "cell_type": "code",
      "source": [
        "correct_labels.shape"
      ],
      "metadata": {
        "colab": {
          "base_uri": "https://localhost:8080/"
        },
        "id": "tuNy_G4yR-Uv",
        "outputId": "07da31ac-b8b6-4dbd-e4e9-15fb2b691847"
      },
      "execution_count": 9,
      "outputs": [
        {
          "output_type": "execute_result",
          "data": {
            "text/plain": [
              "(9865,)"
            ]
          },
          "metadata": {},
          "execution_count": 9
        }
      ]
    },
    {
      "cell_type": "code",
      "source": [
        "correct_examples.shape"
      ],
      "metadata": {
        "colab": {
          "base_uri": "https://localhost:8080/"
        },
        "id": "1DbJ8M02SEZt",
        "outputId": "7bc62687-4818-4453-a085-52078e0ecdb7"
      },
      "execution_count": 10,
      "outputs": [
        {
          "output_type": "execute_result",
          "data": {
            "text/plain": [
              "(9865, 28, 28, 1)"
            ]
          },
          "metadata": {},
          "execution_count": 10
        }
      ]
    },
    {
      "cell_type": "code",
      "source": [
        "\n",
        "# Count the occurrences of each label in the test set\n",
        "unique, counts = np.unique(correct_labels, return_counts=True)\n",
        "correct_labels_counts = dict(zip(unique, counts))\n",
        "print(\"correct_labels_counts:\", correct_labels_counts)\n",
        "for label, count in correct_labels_counts.items():\n",
        "    print(f\"Label {label}: {count}\")"
      ],
      "metadata": {
        "colab": {
          "base_uri": "https://localhost:8080/"
        },
        "id": "ad3-9H_2Sh8K",
        "outputId": "79c770f2-b5d1-46f0-a0d8-dc84c7a73894"
      },
      "execution_count": 27,
      "outputs": [
        {
          "output_type": "stream",
          "name": "stdout",
          "text": [
            "correct_labels_counts: {0: 973, 1: 1130, 2: 1015, 3: 993, 4: 968, 5: 882, 6: 942, 7: 1007, 8: 965, 9: 990}\n",
            "Label 0: 973\n",
            "Label 1: 1130\n",
            "Label 2: 1015\n",
            "Label 3: 993\n",
            "Label 4: 968\n",
            "Label 5: 882\n",
            "Label 6: 942\n",
            "Label 7: 1007\n",
            "Label 8: 965\n",
            "Label 9: 990\n"
          ]
        }
      ]
    },
    {
      "cell_type": "code",
      "source": [
        "predicted_labels.shape"
      ],
      "metadata": {
        "colab": {
          "base_uri": "https://localhost:8080/"
        },
        "id": "PogvOFPmyh1H",
        "outputId": "9bea5fdf-23db-4fce-e52a-5eed779e5298"
      },
      "execution_count": 33,
      "outputs": [
        {
          "output_type": "execute_result",
          "data": {
            "text/plain": [
              "(10000,)"
            ]
          },
          "metadata": {},
          "execution_count": 33
        }
      ]
    },
    {
      "cell_type": "code",
      "source": [
        "import numpy as np\n",
        "import pandas as pd\n",
        "\n",
        "# Assuming all_labels, y_train, y_test, and correct_labels are defined and loaded appropriately\n",
        "\n",
        "# Function to count occurrences and return as a dictionary\n",
        "def count_labels(labels):\n",
        "    unique, counts = np.unique(labels, return_counts=True)\n",
        "    return dict(zip(unique, counts))\n",
        "\n",
        "# Count the occurrences of each label in the combined dataset\n",
        "total_label_counts = count_labels(all_labels)\n",
        "\n",
        "# Count the occurrences of each label in the training set\n",
        "train_label_counts = count_labels(y_train)\n",
        "\n",
        "# Count the occurrences of each label in the test set\n",
        "test_label_counts = count_labels(y_test)\n",
        "\n",
        "# Count the occurrences of each label in the test set\n",
        "predict_label_counts = count_labels(predicted_labels)\n",
        "\n",
        "# Count the occurrences of each label in the correct labels\n",
        "correct_labels_counts = count_labels(correct_labels)\n",
        "\n",
        "# Create a DataFrame from the dictionaries\n",
        "label_counts_df = pd.DataFrame({\n",
        "    'Total MNIST': pd.Series(total_label_counts),\n",
        "    'Training Set': pd.Series(train_label_counts),\n",
        "    'Test Set': pd.Series(test_label_counts),\n",
        "    'Predict Labels': pd.Series(predicted_labels_counts),\n",
        "    'Correct Labels': pd.Series(correct_labels_counts)\n",
        "})\n",
        "\n",
        "# Print the DataFrame\n",
        "print(\"Label counts in different datasets:\")\n",
        "print(label_counts_df)\n",
        "\n",
        "# If you want to save this table to a CSV file\n",
        "label_counts_df.to_csv('/content/drive/MyDrive/ColabNotebooks/label_counts.csv')\n"
      ],
      "metadata": {
        "colab": {
          "base_uri": "https://localhost:8080/"
        },
        "id": "NMjnvaw0wFaA",
        "outputId": "dd3d47eb-48ad-42c6-9a11-08482fa1c6bf"
      },
      "execution_count": 32,
      "outputs": [
        {
          "output_type": "stream",
          "name": "stdout",
          "text": [
            "Label counts in different datasets:\n",
            "   Total MNIST  Training Set  Test Set  Predict Labels  Correct Labels\n",
            "0         6903          5923       980             984             973\n",
            "1         7877          6742      1135            1143            1130\n",
            "2         6990          5958      1032            1034            1015\n",
            "3         7141          6131      1010             999             993\n",
            "4         6824          5842       982             977             968\n",
            "5         6313          5421       892             898             882\n",
            "6         6876          5918       958             952             942\n",
            "7         7293          6265      1028            1016            1007\n",
            "8         6825          5851       974             988             965\n",
            "9         6958          5949      1009            1009             990\n"
          ]
        }
      ]
    },
    {
      "cell_type": "code",
      "source": [
        "from sklearn.metrics import confusion_matrix\n",
        "import seaborn as sns\n",
        "import matplotlib.pyplot as plt\n",
        "import matplotlib.pyplot as plt\n",
        "\n",
        "# Calculate the confusion matrix\n",
        "cm = confusion_matrix(y_test, predicted_labels,labels=range(10))\n",
        "\n",
        "# Create a mask for the diagonal elements\n",
        "mask = np.eye(len(cm), dtype=bool)\n",
        "\n",
        "# Set up the matplotlib figure\n",
        "fig, ax = plt.subplots(figsize=(10, 8))\n",
        "\n",
        "# Plot the heatmap for off-diagonal elements using the mask\n",
        "# Use a professional color palette like 'Blues'\n",
        "sns.heatmap(cm, mask=mask, annot=True, fmt='d', cmap='Blues', ax=ax, cbar=False, linewidths=.5, linecolor='grey')\n",
        "\n",
        "# Plot the heatmap for diagonal elements using the inverse of the mask\n",
        "# Use the same color palette for consistency\n",
        "sns.heatmap(cm, mask=~mask, annot=True, fmt='d', cmap='Blues', ax=ax, cbar=False, linewidths=.5, linecolor='grey')\n",
        "\n",
        "# Labels, title and ticks\n",
        "label_names = [f'{i}' for i in range(10)]\n",
        "ax.set_xlabel('Predicted Labels', fontsize=12)\n",
        "ax.set_ylabel('True Labels', fontsize=12)\n",
        "ax.set_title('Confusion Matrix with Professional Palette', fontsize=16)\n",
        "ax.set_xticklabels(label_names)\n",
        "ax.set_yticklabels(label_names)\n",
        "\n",
        "plt.savefig('model.png', bbox_inches='tight')\n",
        "plt.show()"
      ],
      "metadata": {
        "colab": {
          "base_uri": "https://localhost:8080/",
          "height": 724
        },
        "id": "9IrgzzEPJtyN",
        "outputId": "96143532-ade4-4d11-d993-9530175fb1e9"
      },
      "execution_count": 12,
      "outputs": [
        {
          "output_type": "display_data",
          "data": {
            "text/plain": [
              "<Figure size 1000x800 with 1 Axes>"
            ],
            "image/png": "[encoded data removed]"
          },
          "metadata": {}
        }
      ]
    },
    {
      "cell_type": "code",
      "source": [
        "predictions.shape"
      ],
      "metadata": {
        "colab": {
          "base_uri": "https://localhost:8080/"
        },
        "id": "WANoVYc9DEQV",
        "outputId": "989cec34-2581-499a-fce3-0d33c03dc44e"
      },
      "execution_count": 13,
      "outputs": [
        {
          "output_type": "execute_result",
          "data": {
            "text/plain": [
              "(10000, 10)"
            ]
          },
          "metadata": {},
          "execution_count": 13
        }
      ]
    },
    {
      "cell_type": "code",
      "source": [
        "# Count the occurrences of each label in the correct_labels\n",
        "unique, counts = np.unique(predicted_labels, return_counts=True)\n",
        "predicted_labels_counts = dict(zip(unique, counts))\n",
        "print(\"correct_predicted set label counts:\", predicted_labels_counts)\n",
        "for label, count in predicted_labels_counts.items():\n",
        "    print(f\"Label {label}: {count}\")\n",
        "\n",
        "total_predicted_labels_count = len(predicted_labels)\n",
        "\n",
        "# Display the total count of all labels\n",
        "print(f\"Total count of all total_predicted_labels_count combined in the MNIST dataset: {total_predicted_labels_count}\")"
      ],
      "metadata": {
        "colab": {
          "base_uri": "https://localhost:8080/"
        },
        "id": "QFau1JwX72yb",
        "outputId": "baf8e0e1-5bf9-42a6-da4b-53504b5b153a"
      },
      "execution_count": 14,
      "outputs": [
        {
          "output_type": "stream",
          "name": "stdout",
          "text": [
            "correct_predicted set label counts: {0: 984, 1: 1143, 2: 1034, 3: 999, 4: 977, 5: 898, 6: 952, 7: 1016, 8: 988, 9: 1009}\n",
            "Label 0: 984\n",
            "Label 1: 1143\n",
            "Label 2: 1034\n",
            "Label 3: 999\n",
            "Label 4: 977\n",
            "Label 5: 898\n",
            "Label 6: 952\n",
            "Label 7: 1016\n",
            "Label 8: 988\n",
            "Label 9: 1009\n",
            "Total count of all total_predicted_labels_count combined in the MNIST dataset: 10000\n"
          ]
        }
      ]
    },
    {
      "cell_type": "code",
      "source": [
        "# Count the occurrences of each label in the correct_labels\n",
        "unique, counts = np.unique(correct_labels, return_counts=True)\n",
        "correct_labels_counts = dict(zip(unique, counts))\n",
        "print(\"Test set label counts:\", correct_labels_counts)\n",
        "for label, count in correct_labels_counts.items():\n",
        "    print(f\"Label {label}: {count}\")\n",
        "\n",
        "total_correct_labels_count = len(correct_labels)\n",
        "\n",
        "# Display the total count of all labels\n",
        "print(f\"Total count of all total_correct_labels_count combined in the MNIST dataset: {total_correct_labels_count}\")"
      ],
      "metadata": {
        "colab": {
          "base_uri": "https://localhost:8080/"
        },
        "id": "-4LM_-Ph2XQm",
        "outputId": "3496aecb-5d16-49f7-9327-3dad715c6b6c"
      },
      "execution_count": 15,
      "outputs": [
        {
          "output_type": "stream",
          "name": "stdout",
          "text": [
            "Test set label counts: {0: 973, 1: 1130, 2: 1015, 3: 993, 4: 968, 5: 882, 6: 942, 7: 1007, 8: 965, 9: 990}\n",
            "Label 0: 973\n",
            "Label 1: 1130\n",
            "Label 2: 1015\n",
            "Label 3: 993\n",
            "Label 4: 968\n",
            "Label 5: 882\n",
            "Label 6: 942\n",
            "Label 7: 1007\n",
            "Label 8: 965\n",
            "Label 9: 990\n",
            "Total count of all total_correct_labels_count combined in the MNIST dataset: 9865\n"
          ]
        }
      ]
    },
    {
      "cell_type": "code",
      "source": [
        "correct_labels.shape"
      ],
      "metadata": {
        "colab": {
          "base_uri": "https://localhost:8080/"
        },
        "id": "InlHo6U5DNmH",
        "outputId": "de0b88f8-f41c-43ab-fe44-edadf07cb6fa"
      },
      "execution_count": 16,
      "outputs": [
        {
          "output_type": "execute_result",
          "data": {
            "text/plain": [
              "(9865,)"
            ]
          },
          "metadata": {},
          "execution_count": 16
        }
      ]
    },
    {
      "cell_type": "markdown",
      "metadata": {
        "id": "eri1vnXR3gue"
      },
      "source": [
        "# **FastGradientMethod**"
      ]
    },
    {
      "cell_type": "markdown",
      "metadata": {
        "id": "S1cbqWmwcjxE"
      },
      "source": [
        "**Load the saved examples\n",
        "Choose  attack FGM\n",
        "Apply without target,with target, muktiple attacks without target and with target**\n",
        "\n",
        "\n"
      ]
    },
    {
      "cell_type": "code",
      "execution_count": 17,
      "metadata": {
        "colab": {
          "base_uri": "https://localhost:8080/"
        },
        "id": "PpBey3kkcgOf",
        "outputId": "879979e3-1394-4e14-da1b-d9d8d6b71ca5"
      },
      "outputs": [
        {
          "output_type": "stream",
          "name": "stderr",
          "text": [
            "/usr/local/lib/python3.10/dist-packages/keras/src/engine/training_v1.py:2359: UserWarning: `Model.state_updates` will be removed in a future version. This property should not be used in TensorFlow 2.0, as `updates` are applied automatically.\n",
            "  updates=self.state_updates,\n"
          ]
        }
      ],
      "source": [
        "import tensorflow as tf\n",
        "tf.compat.v1.disable_eager_execution()\n",
        "from keras.models import load_model\n",
        "from art.attacks.evasion import FastGradientMethod\n",
        "from art.estimators.classification import KerasClassifier\n",
        "from sklearn.metrics import confusion_matrix\n",
        "import seaborn as sns\n",
        "import matplotlib.pyplot as plt\n",
        "import matplotlib.pyplot as plt\n",
        "\n",
        "# Load your trained model\n",
        "model = load_model('/content/drive/MyDrive/ColabNotebooks/mnist_model.h5')\n",
        "\n",
        "# Load the saved correct examples and their labels\n",
        "correct_examples = np.load('/content/drive/MyDrive/ColabNotebooks/correct_examples.npy')\n",
        "correct_labels = np.load('/content/drive/MyDrive/ColabNotebooks/correct_labels.npy')\n",
        "\n",
        "# Preprocess the examples\n",
        "correct_examples = correct_examples.astype('float32') / 255\n",
        "\n",
        "# Wrap the model with ART KerasClassifier\n",
        "classifier = KerasClassifier(model=model, clip_values=(0, 1))\n",
        "\n",
        "# Define the attack\n",
        "attack = FastGradientMethod(classifier, eps=0.1)\n",
        "\n",
        "# Apply the attack to generate adversarial examples\n",
        "x_adv = attack.generate(x=correct_examples)\n",
        "\n",
        "# Predict the labels of the adversarial examples\n",
        "y_adv = np.argmax(classifier.predict(x_adv), axis=1)\n",
        "\n",
        "\n"
      ]
    },
    {
      "cell_type": "code",
      "source": [
        "unique, counts = np.unique(y_adv, return_counts=True)\n",
        "y_adv_counts = dict(zip(unique, counts))\n",
        "for label, count in y_adv_counts.items():\n",
        "    print(f\"Label {label}: {count}\")\n",
        "\n",
        "total_y_adv_count = len(y_adv)\n",
        "\n",
        "# Display the total count of all labels\n",
        "print(f\"Total count of all total_predicted_labels_count combined in the MNIST dataset: {total_y_adv_count}\")"
      ],
      "metadata": {
        "colab": {
          "base_uri": "https://localhost:8080/"
        },
        "id": "hSPH93csTDDh",
        "outputId": "6eae5188-0661-4045-ea29-ce6ffc040de5"
      },
      "execution_count": 18,
      "outputs": [
        {
          "output_type": "stream",
          "name": "stdout",
          "text": [
            "Label 1: 1\n",
            "Label 5: 9863\n",
            "Label 7: 1\n",
            "Total count of all total_predicted_labels_count combined in the MNIST dataset: 9865\n"
          ]
        }
      ]
    },
    {
      "cell_type": "code",
      "source": [
        "correct_examples.shape\n"
      ],
      "metadata": {
        "colab": {
          "base_uri": "https://localhost:8080/"
        },
        "id": "XIAWnD6vS2MW",
        "outputId": "af22f7c0-5754-4ee0-9bcc-c9c4d1ce1e52"
      },
      "execution_count": 19,
      "outputs": [
        {
          "output_type": "execute_result",
          "data": {
            "text/plain": [
              "(9865, 28, 28, 1)"
            ]
          },
          "metadata": {},
          "execution_count": 19
        }
      ]
    },
    {
      "cell_type": "code",
      "source": [
        "y_adv.shape"
      ],
      "metadata": {
        "colab": {
          "base_uri": "https://localhost:8080/"
        },
        "id": "-IqL6FoUW6vT",
        "outputId": "283baba0-4c76-4bc1-c553-79286a8f0c09"
      },
      "execution_count": 20,
      "outputs": [
        {
          "output_type": "execute_result",
          "data": {
            "text/plain": [
              "(9865,)"
            ]
          },
          "metadata": {},
          "execution_count": 20
        }
      ]
    },
    {
      "cell_type": "code",
      "source": [
        "# Calculate the confusion matrix\n",
        "cm = confusion_matrix(correct_labels, y_adv, labels=range(10))\n",
        "\n",
        "# Draw the confusion matrix\n",
        "# Create a mask for the diagonal elements\n",
        "mask = np.eye(len(cm), dtype=bool)\n",
        "\n",
        "# Set up the matplotlib figure\n",
        "fig, ax = plt.subplots(figsize=(10, 8))\n",
        "\n",
        "# Plot the heatmap for off-diagonal elements using the mask\n",
        "# Use a professional color palette like 'Blues'\n",
        "sns.heatmap(cm, mask=mask, annot=True, fmt='d', cmap='Blues', ax=ax, cbar=False, linewidths=.5, linecolor='grey')\n",
        "\n",
        "# Plot the heatmap for diagonal elements using the inverse of the mask\n",
        "# Use the same color palette for consistency\n",
        "sns.heatmap(cm, mask=~mask, annot=True, fmt='d', cmap='Blues', ax=ax, cbar=False, linewidths=.5, linecolor='grey')\n",
        "\n",
        "# Labels, title and ticks\n",
        "label_names = [f'{i}' for i in range(10)]\n",
        "ax.set_xlabel('Predicted Labels', fontsize=12)\n",
        "ax.set_ylabel('True Labels', fontsize=12)\n",
        "ax.set_title('Confusion Matrix with Professional Palette', fontsize=16)\n",
        "ax.set_xticklabels(label_names)\n",
        "ax.set_yticklabels(label_names)\n",
        "plt.savefig('FGM_without_target.png', bbox_inches='tight')\n",
        "plt.show()"
      ],
      "metadata": {
        "colab": {
          "base_uri": "https://localhost:8080/",
          "height": 724
        },
        "id": "3wSg5HhnRvaj",
        "outputId": "8b1ee23c-5b8a-4656-ce68-91a593ca0ccd"
      },
      "execution_count": 21,
      "outputs": [
        {
          "output_type": "display_data",
          "data": {
            "text/plain": [
              "<Figure size 1000x800 with 1 Axes>"
            ],
            "image/png": "[encoded data removed]"
          },
          "metadata": {}
        }
      ]
    },
    {
      "cell_type": "code",
      "source": [
        "import numpy as np\n",
        "import tensorflow as tf\n",
        "from keras.models import load_model\n",
        "from art.attacks.evasion import FastGradientMethod\n",
        "from art.estimators.classification import KerasClassifier\n",
        "from sklearn.metrics import confusion_matrix\n",
        "import seaborn as sns\n",
        "import matplotlib.pyplot as plt\n",
        "import pandas as pd\n",
        "\n",
        "# Disable eager execution (necessary for ART with TensorFlow v1)\n",
        "tf.compat.v1.disable_eager_execution()\n",
        "\n",
        "# Load your trained model\n",
        "model = load_model('/content/drive/MyDrive/ColabNotebooks/mnist_model.h5')\n",
        "\n",
        "# Load the saved correct examples and their labels\n",
        "correct_examples = np.load('/content/drive/MyDrive/ColabNotebooks/correct_examples.npy')\n",
        "correct_labels = np.load('/content/drive/MyDrive/ColabNotebooks/correct_labels.npy')\n",
        "\n",
        "# Preprocess the examples\n",
        "correct_examples = correct_examples.astype('float32') / 255\n",
        "\n",
        "# Wrap the model with ART KerasClassifier\n",
        "classifier = KerasClassifier(model=model, clip_values=(0, 1))\n",
        "\n",
        "# Define the range of eps values\n",
        "eps_range = [0.01, 0.02, 0.03, 0.04, 0.05, 0.1, 0.2, 0.3, 0.4, 0.5, 0.6]\n",
        "\n",
        "# Initialize a DataFrame to store results\n",
        "results_df = pd.DataFrame(columns=['eps', 'total_correct', 'total_adv', 'correct_adv_counts'])\n",
        "\n",
        "# Loop over the eps values\n",
        "for eps in eps_range:\n",
        "    # Define the attack with the current eps\n",
        "    attack = FastGradientMethod(classifier, eps=eps)\n",
        "\n",
        "    # Apply the attack to generate adversarial examples\n",
        "    x_adv = attack.generate(x=correct_examples)\n",
        "\n",
        "    # Predict the labels of the adversarial examples\n",
        "    y_adv = np.argmax(classifier.predict(x_adv), axis=1)\n",
        "\n",
        "    # Count the occurrences of each label in the adversarial predictions\n",
        "    unique_adv, counts_adv = np.unique(y_adv, return_counts=True)\n",
        "    adv_counts = dict(zip(unique_adv, counts_adv))\n",
        "\n",
        "    # Calculate the confusion matrix\n",
        "    cm = confusion_matrix(correct_labels, y_adv, labels=range(10))\n",
        "\n",
        "    # Draw and save the confusion matrix\n",
        "    fig, ax = plt.subplots(figsize=(10, 8))\n",
        "\n",
        "    # Create a mask for the diagonal elements\n",
        "    mask = np.eye(len(cm), dtype=bool)\n",
        "\n",
        "    # Plot the heatmap for off-diagonal elements using the mask\n",
        "    # Use a professional color palette like 'Blues'\n",
        "    sns.heatmap(cm, mask=mask, annot=True, fmt='d', cmap='Blues', ax=ax, cbar=False, linewidths=.5, linecolor='grey')\n",
        "\n",
        "    # Plot the heatmap for diagonal elements using the inverse of the mask\n",
        "    # Use the same color palette for consistency\n",
        "    sns.heatmap(cm, mask=~mask, annot=True, fmt='d', cmap='Blues', ax=ax, cbar=False, linewidths=.5, linecolor='grey')\n",
        "    # Labels, title and ticks\n",
        "    label_names = [f'{i}' for i in range(10)]\n",
        "    ax.set_xlabel('Predicted Labels', fontsize=12)\n",
        "    ax.set_ylabel('True Labels', fontsize=12)\n",
        "    ax.set_title(f'Confusion Matrix for eps={eps}', fontsize=16)\n",
        "    ax.set_xticklabels(label_names)\n",
        "    ax.set_yticklabels(label_names)\n",
        "\n",
        "\n",
        "    image_filename = f'confusion_matrix_eps_{eps}.png'\n",
        "    plt.savefig(image_filename, bbox_inches='tight')\n",
        "    plt.close(fig)  # Close the figure to avoid displaying it in the notebook\n",
        "\n",
        "    # Save the results in the DataFrame\n",
        "    results_df = results_df.append({\n",
        "        'eps': eps,\n",
        "        'total_correct': len(correct_labels),\n",
        "        'total_adv': len(y_adv),\n",
        "        'correct_adv_counts': adv_counts\n",
        "    }, ignore_index=True)\n",
        "\n",
        "# Save the results to a CSV file\n",
        "results_df.to_csv('/content/drive/MyDrive/ColabNotebooks/adv_results.csv', index=False)\n",
        "\n",
        "# Print the DataFrame\n",
        "print(results_df)\n"
      ],
      "metadata": {
        "colab": {
          "base_uri": "https://localhost:8080/"
        },
        "id": "d9bWa3Clm9Oy",
        "outputId": "1facd822-105d-44f1-cb97-1f76c954cad2"
      },
      "execution_count": 22,
      "outputs": [
        {
          "output_type": "stream",
          "name": "stderr",
          "text": [
            "/usr/local/lib/python3.10/dist-packages/keras/src/engine/training_v1.py:2359: UserWarning: `Model.state_updates` will be removed in a future version. This property should not be used in TensorFlow 2.0, as `updates` are applied automatically.\n",
            "  updates=self.state_updates,\n",
            "<ipython-input-22-1b110e023548>:78: FutureWarning: The frame.append method is deprecated and will be removed from pandas in a future version. Use pandas.concat instead.\n",
            "  results_df = results_df.append({\n",
            "<ipython-input-22-1b110e023548>:78: FutureWarning: The frame.append method is deprecated and will be removed from pandas in a future version. Use pandas.concat instead.\n",
            "  results_df = results_df.append({\n",
            "<ipython-input-22-1b110e023548>:78: FutureWarning: The frame.append method is deprecated and will be removed from pandas in a future version. Use pandas.concat instead.\n",
            "  results_df = results_df.append({\n",
            "<ipython-input-22-1b110e023548>:78: FutureWarning: The frame.append method is deprecated and will be removed from pandas in a future version. Use pandas.concat instead.\n",
            "  results_df = results_df.append({\n",
            "<ipython-input-22-1b110e023548>:78: FutureWarning: The frame.append method is deprecated and will be removed from pandas in a future version. Use pandas.concat instead.\n",
            "  results_df = results_df.append({\n",
            "<ipython-input-22-1b110e023548>:78: FutureWarning: The frame.append method is deprecated and will be removed from pandas in a future version. Use pandas.concat instead.\n",
            "  results_df = results_df.append({\n",
            "<ipython-input-22-1b110e023548>:78: FutureWarning: The frame.append method is deprecated and will be removed from pandas in a future version. Use pandas.concat instead.\n",
            "  results_df = results_df.append({\n",
            "<ipython-input-22-1b110e023548>:78: FutureWarning: The frame.append method is deprecated and will be removed from pandas in a future version. Use pandas.concat instead.\n",
            "  results_df = results_df.append({\n",
            "<ipython-input-22-1b110e023548>:78: FutureWarning: The frame.append method is deprecated and will be removed from pandas in a future version. Use pandas.concat instead.\n",
            "  results_df = results_df.append({\n",
            "<ipython-input-22-1b110e023548>:78: FutureWarning: The frame.append method is deprecated and will be removed from pandas in a future version. Use pandas.concat instead.\n",
            "  results_df = results_df.append({\n"
          ]
        },
        {
          "output_type": "stream",
          "name": "stdout",
          "text": [
            "     eps total_correct total_adv      correct_adv_counts\n",
            "0   0.01          9865      9865               {1: 9865}\n",
            "1   0.02          9865      9865      {1: 4068, 5: 5797}\n",
            "2   0.03          9865      9865       {1: 355, 5: 9510}\n",
            "3   0.04          9865      9865  {1: 51, 5: 9813, 7: 1}\n",
            "4   0.05          9865      9865        {1: 12, 5: 9853}\n",
            "5   0.10          9865      9865   {1: 1, 5: 9863, 7: 1}\n",
            "6   0.20          9865      9865               {5: 9865}\n",
            "7   0.30          9865      9865               {5: 9865}\n",
            "8   0.40          9865      9865               {5: 9865}\n",
            "9   0.50          9865      9865               {5: 9865}\n",
            "10  0.60          9865      9865               {5: 9865}\n"
          ]
        },
        {
          "output_type": "stream",
          "name": "stderr",
          "text": [
            "<ipython-input-22-1b110e023548>:78: FutureWarning: The frame.append method is deprecated and will be removed from pandas in a future version. Use pandas.concat instead.\n",
            "  results_df = results_df.append({\n"
          ]
        }
      ]
    },
    {
      "cell_type": "code",
      "source": [
        "import numpy as np\n",
        "import tensorflow as tf\n",
        "from keras.models import load_model\n",
        "from art.attacks.evasion import FastGradientMethod\n",
        "from art.estimators.classification import KerasClassifier\n",
        "from sklearn.metrics import confusion_matrix\n",
        "import seaborn as sns\n",
        "import matplotlib.pyplot as plt\n",
        "import pandas as pd\n",
        "\n",
        "# Disable eager execution (necessary for ART with TensorFlow v1)\n",
        "tf.compat.v1.disable_eager_execution()\n",
        "\n",
        "# Load your trained model\n",
        "model = load_model('/content/drive/MyDrive/ColabNotebooks/mnist_model.h5')\n",
        "\n",
        "# Load the saved correct examples and their labels\n",
        "correct_examples = np.load('/content/drive/MyDrive/ColabNotebooks/correct_examples.npy')\n",
        "correct_labels = np.load('/content/drive/MyDrive/ColabNotebooks/correct_labels.npy')\n",
        "\n",
        "# Preprocess the examples\n",
        "correct_examples = correct_examples.astype('float32') / 255\n",
        "\n",
        "# Wrap the model with ART KerasClassifier\n",
        "classifier = KerasClassifier(model=model, clip_values=(0, 1))\n",
        "\n",
        "# Define the range of eps values\n",
        "eps_range = [0.01, 0.02, 0.03, 0.04, 0.05, 0.1, 0.2, 0.3, 0.4, 0.5, 0.6]\n",
        "\n",
        "# Initialize a DataFrame to store results\n",
        "results_df = pd.DataFrame(columns=['eps', 'total_correct', 'total_adv', 'correct_adv_counts'])\n",
        "\n",
        "# Loop over the eps values\n",
        "for eps in eps_range:\n",
        "    # Define the attack with the current eps\n",
        "    attack = FastGradientMethod(classifier, eps=eps)\n",
        "\n",
        "    # Apply the attack to generate adversarial examples\n",
        "    x_adv = attack.generate(x=correct_examples ,y=correct_labels)\n",
        "\n",
        "    # Predict the labels of the adversarial examples\n",
        "    y_adv = np.argmax(classifier.predict(x_adv), axis=1)\n",
        "\n",
        "    # Count the occurrences of each label in the adversarial predictions\n",
        "    unique_adv, counts_adv = np.unique(y_adv, return_counts=True)\n",
        "    adv_counts = dict(zip(unique_adv, counts_adv))\n",
        "\n",
        "    # Calculate the confusion matrix\n",
        "    cm = confusion_matrix(correct_labels, y_adv, labels=range(10))\n",
        "\n",
        "   # Draw and save the confusion matrix\n",
        "    fig, ax = plt.subplots(figsize=(10, 8))\n",
        "\n",
        "    # Create a mask for the diagonal elements\n",
        "    mask = np.eye(len(cm), dtype=bool)\n",
        "\n",
        "    # Plot the heatmap for off-diagonal elements using the mask\n",
        "    # Use a professional color palette like 'Blues'\n",
        "    sns.heatmap(cm, mask=mask, annot=True, fmt='d', cmap='Blues', ax=ax, cbar=False, linewidths=.5, linecolor='grey')\n",
        "\n",
        "    # Plot the heatmap for diagonal elements using the inverse of the mask\n",
        "    # Use the same color palette for consistency\n",
        "    sns.heatmap(cm, mask=~mask, annot=True, fmt='d', cmap='Blues', ax=ax, cbar=False, linewidths=.5, linecolor='grey')\n",
        "    # Labels, title and ticks\n",
        "    label_names = [f'{i}' for i in range(10)]\n",
        "    ax.set_xlabel('Predicted Labels', fontsize=12)\n",
        "    ax.set_ylabel('True Labels', fontsize=12)\n",
        "    ax.set_title(f'Confusion Matrix for eps={eps}', fontsize=16)\n",
        "    ax.set_xticklabels(label_names)\n",
        "    ax.set_yticklabels(label_names)\n",
        "    image_filename = f'_correct_labels_confusion_matrix_eps_{eps}.png'\n",
        "    plt.savefig(image_filename, bbox_inches='tight')\n",
        "    plt.close(fig)  # Close the figure to avoid displaying it in the notebook\n",
        "\n",
        "    # Save the results in the DataFrame\n",
        "    results_df = results_df.append({\n",
        "        'eps': eps,\n",
        "        'total_correct': len(correct_labels),\n",
        "        'total_adv': len(y_adv),\n",
        "        'correct_adv_counts': adv_counts\n",
        "    }, ignore_index=True)\n",
        "\n",
        "# Save the results to a CSV file\n",
        "results_df.to_csv('/content/drive/MyDrive/ColabNotebooks/adv_results_labels.csv', index=False)\n",
        "\n",
        "# Print the DataFrame\n",
        "print(results_df)\n"
      ],
      "metadata": {
        "colab": {
          "base_uri": "https://localhost:8080/"
        },
        "id": "yi0aCeaboDJW",
        "outputId": "807a6a0c-0cea-4744-ff0f-d3b1825804ad"
      },
      "execution_count": 23,
      "outputs": [
        {
          "output_type": "stream",
          "name": "stderr",
          "text": [
            "/usr/local/lib/python3.10/dist-packages/keras/src/engine/training_v1.py:2359: UserWarning: `Model.state_updates` will be removed in a future version. This property should not be used in TensorFlow 2.0, as `updates` are applied automatically.\n",
            "  updates=self.state_updates,\n",
            "<ipython-input-23-0437f297889a>:76: FutureWarning: The frame.append method is deprecated and will be removed from pandas in a future version. Use pandas.concat instead.\n",
            "  results_df = results_df.append({\n",
            "<ipython-input-23-0437f297889a>:76: FutureWarning: The frame.append method is deprecated and will be removed from pandas in a future version. Use pandas.concat instead.\n",
            "  results_df = results_df.append({\n",
            "<ipython-input-23-0437f297889a>:76: FutureWarning: The frame.append method is deprecated and will be removed from pandas in a future version. Use pandas.concat instead.\n",
            "  results_df = results_df.append({\n",
            "<ipython-input-23-0437f297889a>:76: FutureWarning: The frame.append method is deprecated and will be removed from pandas in a future version. Use pandas.concat instead.\n",
            "  results_df = results_df.append({\n",
            "<ipython-input-23-0437f297889a>:76: FutureWarning: The frame.append method is deprecated and will be removed from pandas in a future version. Use pandas.concat instead.\n",
            "  results_df = results_df.append({\n",
            "<ipython-input-23-0437f297889a>:76: FutureWarning: The frame.append method is deprecated and will be removed from pandas in a future version. Use pandas.concat instead.\n",
            "  results_df = results_df.append({\n",
            "<ipython-input-23-0437f297889a>:76: FutureWarning: The frame.append method is deprecated and will be removed from pandas in a future version. Use pandas.concat instead.\n",
            "  results_df = results_df.append({\n",
            "<ipython-input-23-0437f297889a>:76: FutureWarning: The frame.append method is deprecated and will be removed from pandas in a future version. Use pandas.concat instead.\n",
            "  results_df = results_df.append({\n",
            "<ipython-input-23-0437f297889a>:76: FutureWarning: The frame.append method is deprecated and will be removed from pandas in a future version. Use pandas.concat instead.\n",
            "  results_df = results_df.append({\n",
            "<ipython-input-23-0437f297889a>:76: FutureWarning: The frame.append method is deprecated and will be removed from pandas in a future version. Use pandas.concat instead.\n",
            "  results_df = results_df.append({\n"
          ]
        },
        {
          "output_type": "stream",
          "name": "stdout",
          "text": [
            "     eps total_correct total_adv                       correct_adv_counts\n",
            "0   0.01          9865      9865                                {1: 9865}\n",
            "1   0.02          9865      9865                        {1: 9144, 5: 721}\n",
            "2   0.03          9865      9865                       {1: 8756, 5: 1109}\n",
            "3   0.04          9865      9865                       {1: 8739, 5: 1126}\n",
            "4   0.05          9865      9865                       {1: 8735, 5: 1130}\n",
            "5   0.10          9865      9865                       {1: 8512, 5: 1353}\n",
            "6   0.20          9865      9865                       {1: 6911, 5: 2954}\n",
            "7   0.30          9865      9865    {1: 5219, 2: 45, 3: 6, 5: 4593, 7: 2}\n",
            "8   0.40          9865      9865  {1: 3701, 2: 192, 3: 10, 5: 5958, 7: 4}\n",
            "9   0.50          9865      9865  {1: 2522, 2: 342, 3: 20, 5: 6977, 7: 4}\n",
            "10  0.60          9865      9865  {1: 1675, 2: 472, 3: 45, 5: 7670, 7: 3}\n"
          ]
        },
        {
          "output_type": "stream",
          "name": "stderr",
          "text": [
            "<ipython-input-23-0437f297889a>:76: FutureWarning: The frame.append method is deprecated and will be removed from pandas in a future version. Use pandas.concat instead.\n",
            "  results_df = results_df.append({\n"
          ]
        }
      ]
    },
    {
      "cell_type": "code",
      "source": [
        "import numpy as np\n",
        "import tensorflow as tf\n",
        "from keras.models import load_model\n",
        "from art.attacks.evasion import FastGradientMethod\n",
        "from art.estimators.classification import KerasClassifier\n",
        "from sklearn.metrics import confusion_matrix\n",
        "import seaborn as sns\n",
        "import matplotlib.pyplot as plt\n",
        "import pandas as pd\n",
        "\n",
        "# Disable eager execution (necessary for ART with TensorFlow v1)\n",
        "tf.compat.v1.disable_eager_execution()\n",
        "\n",
        "# Load your trained model\n",
        "model = load_model('/content/drive/MyDrive/ColabNotebooks/mnist_model.h5')\n",
        "\n",
        "# Load the saved correct examples and their labels\n",
        "correct_examples = np.load('/content/drive/MyDrive/ColabNotebooks/correct_examples.npy')\n",
        "correct_labels = np.load('/content/drive/MyDrive/ColabNotebooks/correct_labels.npy')\n",
        "\n",
        "# Preprocess the examples\n",
        "correct_examples = correct_examples.astype('float32') / 255\n",
        "\n",
        "# Wrap the model with ART KerasClassifier\n",
        "classifier = KerasClassifier(model=model, clip_values=(0, 1))\n",
        "\n",
        "# Define the range of eps values\n",
        "eps_range = [0.01, 0.02, 0.03, 0.04, 0.05, 0.1, 0.2, 0.3, 0.4, 0.5, 0.6]\n",
        "\n",
        "# Initialize a DataFrame to store results\n",
        "results_df = pd.DataFrame()\n",
        "\n",
        "# Loop over the eps values\n",
        "for eps in eps_range:\n",
        "    for attack_num in range(1, 6):  # Perform attack 5 times\n",
        "        # Define the attack with the current eps\n",
        "        attack = FastGradientMethod(classifier, eps=eps)\n",
        "\n",
        "        # Apply the attack to generate adversarial examples\n",
        "        x_adv = attack.generate(x=correct_examples)\n",
        "\n",
        "        # Predict the labels of the adversarial examples\n",
        "        y_adv = np.argmax(classifier.predict(x_adv), axis=1)\n",
        "\n",
        "        # Calculate the confusion matrix\n",
        "        cm = confusion_matrix(correct_labels, y_adv, labels=range(10))\n",
        "        # Draw and save the confusion matrix\n",
        "        fig, ax = plt.subplots(figsize=(10, 8))\n",
        "\n",
        "        # Create a mask for the diagonal elements\n",
        "        mask = np.eye(len(cm), dtype=bool)\n",
        "\n",
        "        # Plot the heatmap for off-diagonal elements using the mask\n",
        "        # Use a professional color palette like 'Blues'\n",
        "        sns.heatmap(cm, mask=mask, annot=True, fmt='d', cmap='Blues', ax=ax, cbar=False, linewidths=.5, linecolor='grey')\n",
        "        # Plot the heatmap for diagonal elements using the inverse of the mask\n",
        "        # Use the same color palette for consistency\n",
        "        sns.heatmap(cm, mask=~mask, annot=True, fmt='d', cmap='Blues', ax=ax, cbar=False, linewidths=.5, linecolor='grey')\n",
        "        # Labels, title and ticks\n",
        "        label_names = [f'{i}' for i in range(10)]\n",
        "        ax.set_xlabel('Predicted Labels', fontsize=12)\n",
        "        ax.set_ylabel('True Labels', fontsize=12)\n",
        "        ax.set_title(f'Confusion Matrix for eps={eps}', fontsize=16)\n",
        "        ax.set_xticklabels(label_names)\n",
        "        ax.set_yticklabels(label_names)\n",
        "        image_filename = f'confusion_matrix_eps_{eps}_attack_{attack_num}.png'\n",
        "        plt.savefig(image_filename, bbox_inches='tight')\n",
        "        plt.close(fig)  # Close the figure to avoid displaying it in the notebook\n",
        "\n",
        "        # Save the results in the DataFrame\n",
        "        results_df = results_df.append({\n",
        "            'eps': eps,\n",
        "            'attack_num': attack_num,\n",
        "            'total_correct': len(correct_labels),\n",
        "            'total_adv': len(y_adv),\n",
        "            'correct_adv_counts': dict(zip(*np.unique(y_adv, return_counts=True)))\n",
        "        }, ignore_index=True)\n",
        "\n",
        "# Save the results to a CSV file\n",
        "results_df.to_csv('/content/drive/MyDrive/ColabNotebooks/adv_results.csv', index=False)\n",
        "\n",
        "# Print the DataFrame\n",
        "print(results_df)\n"
      ],
      "metadata": {
        "colab": {
          "base_uri": "https://localhost:8080/"
        },
        "id": "B3oZsPvm5G-N",
        "outputId": "51c95bcb-9ebb-40f8-f3bb-b029e19a5e72"
      },
      "execution_count": 37,
      "outputs": [
        {
          "output_type": "stream",
          "name": "stderr",
          "text": [
            "/usr/local/lib/python3.10/dist-packages/keras/src/engine/training_v1.py:2359: UserWarning: `Model.state_updates` will be removed in a future version. This property should not be used in TensorFlow 2.0, as `updates` are applied automatically.\n",
            "  updates=self.state_updates,\n",
            "<ipython-input-37-dd73100d22b4>:71: FutureWarning: The frame.append method is deprecated and will be removed from pandas in a future version. Use pandas.concat instead.\n",
            "  results_df = results_df.append({\n",
            "<ipython-input-37-dd73100d22b4>:71: FutureWarning: The frame.append method is deprecated and will be removed from pandas in a future version. Use pandas.concat instead.\n",
            "  results_df = results_df.append({\n",
            "<ipython-input-37-dd73100d22b4>:71: FutureWarning: The frame.append method is deprecated and will be removed from pandas in a future version. Use pandas.concat instead.\n",
            "  results_df = results_df.append({\n",
            "<ipython-input-37-dd73100d22b4>:71: FutureWarning: The frame.append method is deprecated and will be removed from pandas in a future version. Use pandas.concat instead.\n",
            "  results_df = results_df.append({\n",
            "<ipython-input-37-dd73100d22b4>:71: FutureWarning: The frame.append method is deprecated and will be removed from pandas in a future version. Use pandas.concat instead.\n",
            "  results_df = results_df.append({\n",
            "<ipython-input-37-dd73100d22b4>:71: FutureWarning: The frame.append method is deprecated and will be removed from pandas in a future version. Use pandas.concat instead.\n",
            "  results_df = results_df.append({\n",
            "<ipython-input-37-dd73100d22b4>:71: FutureWarning: The frame.append method is deprecated and will be removed from pandas in a future version. Use pandas.concat instead.\n",
            "  results_df = results_df.append({\n",
            "<ipython-input-37-dd73100d22b4>:71: FutureWarning: The frame.append method is deprecated and will be removed from pandas in a future version. Use pandas.concat instead.\n",
            "  results_df = results_df.append({\n",
            "<ipython-input-37-dd73100d22b4>:71: FutureWarning: The frame.append method is deprecated and will be removed from pandas in a future version. Use pandas.concat instead.\n",
            "  results_df = results_df.append({\n",
            "<ipython-input-37-dd73100d22b4>:71: FutureWarning: The frame.append method is deprecated and will be removed from pandas in a future version. Use pandas.concat instead.\n",
            "  results_df = results_df.append({\n",
            "<ipython-input-37-dd73100d22b4>:71: FutureWarning: The frame.append method is deprecated and will be removed from pandas in a future version. Use pandas.concat instead.\n",
            "  results_df = results_df.append({\n",
            "<ipython-input-37-dd73100d22b4>:71: FutureWarning: The frame.append method is deprecated and will be removed from pandas in a future version. Use pandas.concat instead.\n",
            "  results_df = results_df.append({\n",
            "<ipython-input-37-dd73100d22b4>:71: FutureWarning: The frame.append method is deprecated and will be removed from pandas in a future version. Use pandas.concat instead.\n",
            "  results_df = results_df.append({\n",
            "<ipython-input-37-dd73100d22b4>:71: FutureWarning: The frame.append method is deprecated and will be removed from pandas in a future version. Use pandas.concat instead.\n",
            "  results_df = results_df.append({\n",
            "<ipython-input-37-dd73100d22b4>:71: FutureWarning: The frame.append method is deprecated and will be removed from pandas in a future version. Use pandas.concat instead.\n",
            "  results_df = results_df.append({\n",
            "<ipython-input-37-dd73100d22b4>:71: FutureWarning: The frame.append method is deprecated and will be removed from pandas in a future version. Use pandas.concat instead.\n",
            "  results_df = results_df.append({\n",
            "<ipython-input-37-dd73100d22b4>:71: FutureWarning: The frame.append method is deprecated and will be removed from pandas in a future version. Use pandas.concat instead.\n",
            "  results_df = results_df.append({\n",
            "<ipython-input-37-dd73100d22b4>:71: FutureWarning: The frame.append method is deprecated and will be removed from pandas in a future version. Use pandas.concat instead.\n",
            "  results_df = results_df.append({\n",
            "<ipython-input-37-dd73100d22b4>:71: FutureWarning: The frame.append method is deprecated and will be removed from pandas in a future version. Use pandas.concat instead.\n",
            "  results_df = results_df.append({\n",
            "<ipython-input-37-dd73100d22b4>:71: FutureWarning: The frame.append method is deprecated and will be removed from pandas in a future version. Use pandas.concat instead.\n",
            "  results_df = results_df.append({\n",
            "<ipython-input-37-dd73100d22b4>:71: FutureWarning: The frame.append method is deprecated and will be removed from pandas in a future version. Use pandas.concat instead.\n",
            "  results_df = results_df.append({\n",
            "<ipython-input-37-dd73100d22b4>:71: FutureWarning: The frame.append method is deprecated and will be removed from pandas in a future version. Use pandas.concat instead.\n",
            "  results_df = results_df.append({\n",
            "<ipython-input-37-dd73100d22b4>:71: FutureWarning: The frame.append method is deprecated and will be removed from pandas in a future version. Use pandas.concat instead.\n",
            "  results_df = results_df.append({\n",
            "<ipython-input-37-dd73100d22b4>:71: FutureWarning: The frame.append method is deprecated and will be removed from pandas in a future version. Use pandas.concat instead.\n",
            "  results_df = results_df.append({\n",
            "<ipython-input-37-dd73100d22b4>:71: FutureWarning: The frame.append method is deprecated and will be removed from pandas in a future version. Use pandas.concat instead.\n",
            "  results_df = results_df.append({\n",
            "<ipython-input-37-dd73100d22b4>:71: FutureWarning: The frame.append method is deprecated and will be removed from pandas in a future version. Use pandas.concat instead.\n",
            "  results_df = results_df.append({\n",
            "<ipython-input-37-dd73100d22b4>:71: FutureWarning: The frame.append method is deprecated and will be removed from pandas in a future version. Use pandas.concat instead.\n",
            "  results_df = results_df.append({\n",
            "<ipython-input-37-dd73100d22b4>:71: FutureWarning: The frame.append method is deprecated and will be removed from pandas in a future version. Use pandas.concat instead.\n",
            "  results_df = results_df.append({\n",
            "<ipython-input-37-dd73100d22b4>:71: FutureWarning: The frame.append method is deprecated and will be removed from pandas in a future version. Use pandas.concat instead.\n",
            "  results_df = results_df.append({\n",
            "<ipython-input-37-dd73100d22b4>:71: FutureWarning: The frame.append method is deprecated and will be removed from pandas in a future version. Use pandas.concat instead.\n",
            "  results_df = results_df.append({\n",
            "<ipython-input-37-dd73100d22b4>:71: FutureWarning: The frame.append method is deprecated and will be removed from pandas in a future version. Use pandas.concat instead.\n",
            "  results_df = results_df.append({\n",
            "<ipython-input-37-dd73100d22b4>:71: FutureWarning: The frame.append method is deprecated and will be removed from pandas in a future version. Use pandas.concat instead.\n",
            "  results_df = results_df.append({\n",
            "<ipython-input-37-dd73100d22b4>:71: FutureWarning: The frame.append method is deprecated and will be removed from pandas in a future version. Use pandas.concat instead.\n",
            "  results_df = results_df.append({\n",
            "<ipython-input-37-dd73100d22b4>:71: FutureWarning: The frame.append method is deprecated and will be removed from pandas in a future version. Use pandas.concat instead.\n",
            "  results_df = results_df.append({\n",
            "<ipython-input-37-dd73100d22b4>:71: FutureWarning: The frame.append method is deprecated and will be removed from pandas in a future version. Use pandas.concat instead.\n",
            "  results_df = results_df.append({\n",
            "<ipython-input-37-dd73100d22b4>:71: FutureWarning: The frame.append method is deprecated and will be removed from pandas in a future version. Use pandas.concat instead.\n",
            "  results_df = results_df.append({\n",
            "<ipython-input-37-dd73100d22b4>:71: FutureWarning: The frame.append method is deprecated and will be removed from pandas in a future version. Use pandas.concat instead.\n",
            "  results_df = results_df.append({\n",
            "<ipython-input-37-dd73100d22b4>:71: FutureWarning: The frame.append method is deprecated and will be removed from pandas in a future version. Use pandas.concat instead.\n",
            "  results_df = results_df.append({\n",
            "<ipython-input-37-dd73100d22b4>:71: FutureWarning: The frame.append method is deprecated and will be removed from pandas in a future version. Use pandas.concat instead.\n",
            "  results_df = results_df.append({\n",
            "<ipython-input-37-dd73100d22b4>:71: FutureWarning: The frame.append method is deprecated and will be removed from pandas in a future version. Use pandas.concat instead.\n",
            "  results_df = results_df.append({\n",
            "<ipython-input-37-dd73100d22b4>:71: FutureWarning: The frame.append method is deprecated and will be removed from pandas in a future version. Use pandas.concat instead.\n",
            "  results_df = results_df.append({\n",
            "<ipython-input-37-dd73100d22b4>:71: FutureWarning: The frame.append method is deprecated and will be removed from pandas in a future version. Use pandas.concat instead.\n",
            "  results_df = results_df.append({\n",
            "<ipython-input-37-dd73100d22b4>:71: FutureWarning: The frame.append method is deprecated and will be removed from pandas in a future version. Use pandas.concat instead.\n",
            "  results_df = results_df.append({\n",
            "<ipython-input-37-dd73100d22b4>:71: FutureWarning: The frame.append method is deprecated and will be removed from pandas in a future version. Use pandas.concat instead.\n",
            "  results_df = results_df.append({\n",
            "<ipython-input-37-dd73100d22b4>:71: FutureWarning: The frame.append method is deprecated and will be removed from pandas in a future version. Use pandas.concat instead.\n",
            "  results_df = results_df.append({\n",
            "<ipython-input-37-dd73100d22b4>:71: FutureWarning: The frame.append method is deprecated and will be removed from pandas in a future version. Use pandas.concat instead.\n",
            "  results_df = results_df.append({\n",
            "<ipython-input-37-dd73100d22b4>:71: FutureWarning: The frame.append method is deprecated and will be removed from pandas in a future version. Use pandas.concat instead.\n",
            "  results_df = results_df.append({\n",
            "<ipython-input-37-dd73100d22b4>:71: FutureWarning: The frame.append method is deprecated and will be removed from pandas in a future version. Use pandas.concat instead.\n",
            "  results_df = results_df.append({\n",
            "<ipython-input-37-dd73100d22b4>:71: FutureWarning: The frame.append method is deprecated and will be removed from pandas in a future version. Use pandas.concat instead.\n",
            "  results_df = results_df.append({\n",
            "<ipython-input-37-dd73100d22b4>:71: FutureWarning: The frame.append method is deprecated and will be removed from pandas in a future version. Use pandas.concat instead.\n",
            "  results_df = results_df.append({\n",
            "<ipython-input-37-dd73100d22b4>:71: FutureWarning: The frame.append method is deprecated and will be removed from pandas in a future version. Use pandas.concat instead.\n",
            "  results_df = results_df.append({\n",
            "<ipython-input-37-dd73100d22b4>:71: FutureWarning: The frame.append method is deprecated and will be removed from pandas in a future version. Use pandas.concat instead.\n",
            "  results_df = results_df.append({\n",
            "<ipython-input-37-dd73100d22b4>:71: FutureWarning: The frame.append method is deprecated and will be removed from pandas in a future version. Use pandas.concat instead.\n",
            "  results_df = results_df.append({\n",
            "<ipython-input-37-dd73100d22b4>:71: FutureWarning: The frame.append method is deprecated and will be removed from pandas in a future version. Use pandas.concat instead.\n",
            "  results_df = results_df.append({\n"
          ]
        },
        {
          "output_type": "stream",
          "name": "stdout",
          "text": [
            "     eps  attack_num  total_correct  total_adv      correct_adv_counts\n",
            "0   0.01           1           9865       9865               {1: 9865}\n",
            "1   0.01           2           9865       9865               {1: 9865}\n",
            "2   0.01           3           9865       9865               {1: 9865}\n",
            "3   0.01           4           9865       9865               {1: 9865}\n",
            "4   0.01           5           9865       9865               {1: 9865}\n",
            "5   0.02           1           9865       9865      {1: 4068, 5: 5797}\n",
            "6   0.02           2           9865       9865      {1: 4068, 5: 5797}\n",
            "7   0.02           3           9865       9865      {1: 4068, 5: 5797}\n",
            "8   0.02           4           9865       9865      {1: 4068, 5: 5797}\n",
            "9   0.02           5           9865       9865      {1: 4068, 5: 5797}\n",
            "10  0.03           1           9865       9865       {1: 355, 5: 9510}\n",
            "11  0.03           2           9865       9865       {1: 355, 5: 9510}\n",
            "12  0.03           3           9865       9865       {1: 355, 5: 9510}\n",
            "13  0.03           4           9865       9865       {1: 355, 5: 9510}\n",
            "14  0.03           5           9865       9865       {1: 355, 5: 9510}\n",
            "15  0.04           1           9865       9865  {1: 51, 5: 9813, 7: 1}\n",
            "16  0.04           2           9865       9865  {1: 51, 5: 9813, 7: 1}\n",
            "17  0.04           3           9865       9865  {1: 51, 5: 9813, 7: 1}\n",
            "18  0.04           4           9865       9865  {1: 51, 5: 9813, 7: 1}\n",
            "19  0.04           5           9865       9865  {1: 51, 5: 9813, 7: 1}\n",
            "20  0.05           1           9865       9865        {1: 12, 5: 9853}\n",
            "21  0.05           2           9865       9865        {1: 12, 5: 9853}\n",
            "22  0.05           3           9865       9865        {1: 12, 5: 9853}\n",
            "23  0.05           4           9865       9865        {1: 12, 5: 9853}\n",
            "24  0.05           5           9865       9865        {1: 12, 5: 9853}\n",
            "25  0.10           1           9865       9865   {1: 1, 5: 9863, 7: 1}\n",
            "26  0.10           2           9865       9865   {1: 1, 5: 9863, 7: 1}\n",
            "27  0.10           3           9865       9865   {1: 1, 5: 9863, 7: 1}\n",
            "28  0.10           4           9865       9865   {1: 1, 5: 9863, 7: 1}\n",
            "29  0.10           5           9865       9865   {1: 1, 5: 9863, 7: 1}\n",
            "30  0.20           1           9865       9865               {5: 9865}\n",
            "31  0.20           2           9865       9865               {5: 9865}\n",
            "32  0.20           3           9865       9865               {5: 9865}\n",
            "33  0.20           4           9865       9865               {5: 9865}\n",
            "34  0.20           5           9865       9865               {5: 9865}\n",
            "35  0.30           1           9865       9865               {5: 9865}\n",
            "36  0.30           2           9865       9865               {5: 9865}\n",
            "37  0.30           3           9865       9865               {5: 9865}\n",
            "38  0.30           4           9865       9865               {5: 9865}\n",
            "39  0.30           5           9865       9865               {5: 9865}\n",
            "40  0.40           1           9865       9865               {5: 9865}\n",
            "41  0.40           2           9865       9865               {5: 9865}\n",
            "42  0.40           3           9865       9865               {5: 9865}\n",
            "43  0.40           4           9865       9865               {5: 9865}\n",
            "44  0.40           5           9865       9865               {5: 9865}\n",
            "45  0.50           1           9865       9865               {5: 9865}\n",
            "46  0.50           2           9865       9865               {5: 9865}\n",
            "47  0.50           3           9865       9865               {5: 9865}\n",
            "48  0.50           4           9865       9865               {5: 9865}\n",
            "49  0.50           5           9865       9865               {5: 9865}\n",
            "50  0.60           1           9865       9865               {5: 9865}\n",
            "51  0.60           2           9865       9865               {5: 9865}\n",
            "52  0.60           3           9865       9865               {5: 9865}\n",
            "53  0.60           4           9865       9865               {5: 9865}\n",
            "54  0.60           5           9865       9865               {5: 9865}\n"
          ]
        },
        {
          "output_type": "stream",
          "name": "stderr",
          "text": [
            "<ipython-input-37-dd73100d22b4>:71: FutureWarning: The frame.append method is deprecated and will be removed from pandas in a future version. Use pandas.concat instead.\n",
            "  results_df = results_df.append({\n"
          ]
        }
      ]
    },
    {
      "cell_type": "code",
      "source": [
        "import numpy as np\n",
        "import tensorflow as tf\n",
        "from keras.models import load_model\n",
        "from art.attacks.evasion import FastGradientMethod\n",
        "from art.estimators.classification import KerasClassifier\n",
        "from sklearn.metrics import confusion_matrix\n",
        "import seaborn as sns\n",
        "import matplotlib.pyplot as plt\n",
        "import pandas as pd\n",
        "\n",
        "# Disable eager execution (necessary for ART with TensorFlow v1)\n",
        "tf.compat.v1.disable_eager_execution()\n",
        "\n",
        "# Load your trained model\n",
        "model = load_model('/content/drive/MyDrive/ColabNotebooks/mnist_model.h5')\n",
        "\n",
        "# Load the saved correct examples and their labels\n",
        "correct_examples = np.load('/content/drive/MyDrive/ColabNotebooks/correct_examples.npy')\n",
        "correct_labels = np.load('/content/drive/MyDrive/ColabNotebooks/correct_labels.npy')\n",
        "\n",
        "# Preprocess the examples\n",
        "correct_examples = correct_examples.astype('float32') / 255\n",
        "\n",
        "# Wrap the model with ART KerasClassifier\n",
        "classifier = KerasClassifier(model=model, clip_values=(0, 1))\n",
        "\n",
        "# Define the range of eps values\n",
        "eps_range = [0.01, 0.02, 0.03, 0.04, 0.05, 0.1, 0.2, 0.3, 0.4, 0.5, 0.6]\n",
        "\n",
        "# Initialize a DataFrame to store results\n",
        "results_df = pd.DataFrame()\n",
        "\n",
        "# Loop over the eps values\n",
        "for eps in eps_range:\n",
        "    for attack_num in range(1, 6):  # Perform attack 5 times\n",
        "        # Define the attack with the current eps\n",
        "        attack = FastGradientMethod(classifier, eps=eps)\n",
        "\n",
        "        # Apply the attack to generate adversarial examples\n",
        "        x_adv = attack.generate(x=correct_examples,y=correct_labels)\n",
        "\n",
        "        # Predict the labels of the adversarial examples\n",
        "        y_adv = np.argmax(classifier.predict(x_adv), axis=1)\n",
        "\n",
        "        # Calculate the confusion matrix\n",
        "        cm = confusion_matrix(correct_labels, y_adv, labels=range(10))\n",
        "        # Draw and save the confusion matrix\n",
        "        fig, ax = plt.subplots(figsize=(10, 8))\n",
        "\n",
        "        # Create a mask for the diagonal elements\n",
        "        mask = np.eye(len(cm), dtype=bool)\n",
        "\n",
        "        # Plot the heatmap for off-diagonal elements using the mask\n",
        "        # Use a professional color palette like 'Blues'\n",
        "        sns.heatmap(cm, mask=mask, annot=True, fmt='d', cmap='Blues', ax=ax, cbar=False, linewidths=.5, linecolor='grey')\n",
        "        # Plot the heatmap for diagonal elements using the inverse of the mask\n",
        "        # Use the same color palette for consistency\n",
        "        sns.heatmap(cm, mask=~mask, annot=True, fmt='d', cmap='Blues', ax=ax, cbar=False, linewidths=.5, linecolor='grey')\n",
        "        # Labels, title and ticks\n",
        "        label_names = [f'{i}' for i in range(10)]\n",
        "        ax.set_xlabel('Predicted Labels', fontsize=12)\n",
        "        ax.set_ylabel('True Labels', fontsize=12)\n",
        "        ax.set_title(f'Confusion Matrix for eps={eps}', fontsize=16)\n",
        "        ax.set_xticklabels(label_names)\n",
        "        ax.set_yticklabels(label_names)\n",
        "        image_filename = f'target_confusion_matrix_eps_{eps}_attack_{attack_num}.png'\n",
        "        plt.savefig(image_filename, bbox_inches='tight')\n",
        "        plt.close(fig)  # Close the figure to avoid displaying it in the notebook\n",
        "\n",
        "        # Save the results in the DataFrame\n",
        "        results_df = results_df.append({\n",
        "            'eps': eps,\n",
        "            'attack_num': attack_num,\n",
        "            'total_correct': len(correct_labels),\n",
        "            'total_adv': len(y_adv),\n",
        "            'correct_adv_counts': dict(zip(*np.unique(y_adv, return_counts=True)))\n",
        "        }, ignore_index=True)\n",
        "\n",
        "# Save the results to a CSV file\n",
        "results_df.to_csv('/content/drive/MyDrive/ColabNotebooks/adv_results.csv', index=False)\n",
        "\n",
        "# Print the DataFrame\n",
        "print(results_df)\n"
      ],
      "metadata": {
        "colab": {
          "base_uri": "https://localhost:8080/"
        },
        "id": "_PgNvESqJSI5",
        "outputId": "bd224e17-88c8-478e-a074-2bc4ca6296c6"
      },
      "execution_count": 38,
      "outputs": [
        {
          "output_type": "stream",
          "name": "stderr",
          "text": [
            "/usr/local/lib/python3.10/dist-packages/keras/src/engine/training_v1.py:2359: UserWarning: `Model.state_updates` will be removed in a future version. This property should not be used in TensorFlow 2.0, as `updates` are applied automatically.\n",
            "  updates=self.state_updates,\n",
            "<ipython-input-38-9290531ef688>:71: FutureWarning: The frame.append method is deprecated and will be removed from pandas in a future version. Use pandas.concat instead.\n",
            "  results_df = results_df.append({\n",
            "<ipython-input-38-9290531ef688>:71: FutureWarning: The frame.append method is deprecated and will be removed from pandas in a future version. Use pandas.concat instead.\n",
            "  results_df = results_df.append({\n",
            "<ipython-input-38-9290531ef688>:71: FutureWarning: The frame.append method is deprecated and will be removed from pandas in a future version. Use pandas.concat instead.\n",
            "  results_df = results_df.append({\n",
            "<ipython-input-38-9290531ef688>:71: FutureWarning: The frame.append method is deprecated and will be removed from pandas in a future version. Use pandas.concat instead.\n",
            "  results_df = results_df.append({\n",
            "<ipython-input-38-9290531ef688>:71: FutureWarning: The frame.append method is deprecated and will be removed from pandas in a future version. Use pandas.concat instead.\n",
            "  results_df = results_df.append({\n",
            "<ipython-input-38-9290531ef688>:71: FutureWarning: The frame.append method is deprecated and will be removed from pandas in a future version. Use pandas.concat instead.\n",
            "  results_df = results_df.append({\n",
            "<ipython-input-38-9290531ef688>:71: FutureWarning: The frame.append method is deprecated and will be removed from pandas in a future version. Use pandas.concat instead.\n",
            "  results_df = results_df.append({\n",
            "<ipython-input-38-9290531ef688>:71: FutureWarning: The frame.append method is deprecated and will be removed from pandas in a future version. Use pandas.concat instead.\n",
            "  results_df = results_df.append({\n",
            "<ipython-input-38-9290531ef688>:71: FutureWarning: The frame.append method is deprecated and will be removed from pandas in a future version. Use pandas.concat instead.\n",
            "  results_df = results_df.append({\n",
            "<ipython-input-38-9290531ef688>:71: FutureWarning: The frame.append method is deprecated and will be removed from pandas in a future version. Use pandas.concat instead.\n",
            "  results_df = results_df.append({\n",
            "<ipython-input-38-9290531ef688>:71: FutureWarning: The frame.append method is deprecated and will be removed from pandas in a future version. Use pandas.concat instead.\n",
            "  results_df = results_df.append({\n",
            "<ipython-input-38-9290531ef688>:71: FutureWarning: The frame.append method is deprecated and will be removed from pandas in a future version. Use pandas.concat instead.\n",
            "  results_df = results_df.append({\n",
            "<ipython-input-38-9290531ef688>:71: FutureWarning: The frame.append method is deprecated and will be removed from pandas in a future version. Use pandas.concat instead.\n",
            "  results_df = results_df.append({\n",
            "<ipython-input-38-9290531ef688>:71: FutureWarning: The frame.append method is deprecated and will be removed from pandas in a future version. Use pandas.concat instead.\n",
            "  results_df = results_df.append({\n",
            "<ipython-input-38-9290531ef688>:71: FutureWarning: The frame.append method is deprecated and will be removed from pandas in a future version. Use pandas.concat instead.\n",
            "  results_df = results_df.append({\n",
            "<ipython-input-38-9290531ef688>:71: FutureWarning: The frame.append method is deprecated and will be removed from pandas in a future version. Use pandas.concat instead.\n",
            "  results_df = results_df.append({\n",
            "<ipython-input-38-9290531ef688>:71: FutureWarning: The frame.append method is deprecated and will be removed from pandas in a future version. Use pandas.concat instead.\n",
            "  results_df = results_df.append({\n",
            "<ipython-input-38-9290531ef688>:71: FutureWarning: The frame.append method is deprecated and will be removed from pandas in a future version. Use pandas.concat instead.\n",
            "  results_df = results_df.append({\n",
            "<ipython-input-38-9290531ef688>:71: FutureWarning: The frame.append method is deprecated and will be removed from pandas in a future version. Use pandas.concat instead.\n",
            "  results_df = results_df.append({\n",
            "<ipython-input-38-9290531ef688>:71: FutureWarning: The frame.append method is deprecated and will be removed from pandas in a future version. Use pandas.concat instead.\n",
            "  results_df = results_df.append({\n",
            "<ipython-input-38-9290531ef688>:71: FutureWarning: The frame.append method is deprecated and will be removed from pandas in a future version. Use pandas.concat instead.\n",
            "  results_df = results_df.append({\n",
            "<ipython-input-38-9290531ef688>:71: FutureWarning: The frame.append method is deprecated and will be removed from pandas in a future version. Use pandas.concat instead.\n",
            "  results_df = results_df.append({\n",
            "<ipython-input-38-9290531ef688>:71: FutureWarning: The frame.append method is deprecated and will be removed from pandas in a future version. Use pandas.concat instead.\n",
            "  results_df = results_df.append({\n",
            "<ipython-input-38-9290531ef688>:71: FutureWarning: The frame.append method is deprecated and will be removed from pandas in a future version. Use pandas.concat instead.\n",
            "  results_df = results_df.append({\n",
            "<ipython-input-38-9290531ef688>:71: FutureWarning: The frame.append method is deprecated and will be removed from pandas in a future version. Use pandas.concat instead.\n",
            "  results_df = results_df.append({\n",
            "<ipython-input-38-9290531ef688>:71: FutureWarning: The frame.append method is deprecated and will be removed from pandas in a future version. Use pandas.concat instead.\n",
            "  results_df = results_df.append({\n",
            "<ipython-input-38-9290531ef688>:71: FutureWarning: The frame.append method is deprecated and will be removed from pandas in a future version. Use pandas.concat instead.\n",
            "  results_df = results_df.append({\n",
            "<ipython-input-38-9290531ef688>:71: FutureWarning: The frame.append method is deprecated and will be removed from pandas in a future version. Use pandas.concat instead.\n",
            "  results_df = results_df.append({\n",
            "<ipython-input-38-9290531ef688>:71: FutureWarning: The frame.append method is deprecated and will be removed from pandas in a future version. Use pandas.concat instead.\n",
            "  results_df = results_df.append({\n",
            "<ipython-input-38-9290531ef688>:71: FutureWarning: The frame.append method is deprecated and will be removed from pandas in a future version. Use pandas.concat instead.\n",
            "  results_df = results_df.append({\n",
            "<ipython-input-38-9290531ef688>:71: FutureWarning: The frame.append method is deprecated and will be removed from pandas in a future version. Use pandas.concat instead.\n",
            "  results_df = results_df.append({\n",
            "<ipython-input-38-9290531ef688>:71: FutureWarning: The frame.append method is deprecated and will be removed from pandas in a future version. Use pandas.concat instead.\n",
            "  results_df = results_df.append({\n",
            "<ipython-input-38-9290531ef688>:71: FutureWarning: The frame.append method is deprecated and will be removed from pandas in a future version. Use pandas.concat instead.\n",
            "  results_df = results_df.append({\n",
            "<ipython-input-38-9290531ef688>:71: FutureWarning: The frame.append method is deprecated and will be removed from pandas in a future version. Use pandas.concat instead.\n",
            "  results_df = results_df.append({\n",
            "<ipython-input-38-9290531ef688>:71: FutureWarning: The frame.append method is deprecated and will be removed from pandas in a future version. Use pandas.concat instead.\n",
            "  results_df = results_df.append({\n",
            "<ipython-input-38-9290531ef688>:71: FutureWarning: The frame.append method is deprecated and will be removed from pandas in a future version. Use pandas.concat instead.\n",
            "  results_df = results_df.append({\n",
            "<ipython-input-38-9290531ef688>:71: FutureWarning: The frame.append method is deprecated and will be removed from pandas in a future version. Use pandas.concat instead.\n",
            "  results_df = results_df.append({\n",
            "<ipython-input-38-9290531ef688>:71: FutureWarning: The frame.append method is deprecated and will be removed from pandas in a future version. Use pandas.concat instead.\n",
            "  results_df = results_df.append({\n",
            "<ipython-input-38-9290531ef688>:71: FutureWarning: The frame.append method is deprecated and will be removed from pandas in a future version. Use pandas.concat instead.\n",
            "  results_df = results_df.append({\n",
            "<ipython-input-38-9290531ef688>:71: FutureWarning: The frame.append method is deprecated and will be removed from pandas in a future version. Use pandas.concat instead.\n",
            "  results_df = results_df.append({\n",
            "<ipython-input-38-9290531ef688>:71: FutureWarning: The frame.append method is deprecated and will be removed from pandas in a future version. Use pandas.concat instead.\n",
            "  results_df = results_df.append({\n",
            "<ipython-input-38-9290531ef688>:71: FutureWarning: The frame.append method is deprecated and will be removed from pandas in a future version. Use pandas.concat instead.\n",
            "  results_df = results_df.append({\n",
            "<ipython-input-38-9290531ef688>:71: FutureWarning: The frame.append method is deprecated and will be removed from pandas in a future version. Use pandas.concat instead.\n",
            "  results_df = results_df.append({\n",
            "<ipython-input-38-9290531ef688>:71: FutureWarning: The frame.append method is deprecated and will be removed from pandas in a future version. Use pandas.concat instead.\n",
            "  results_df = results_df.append({\n",
            "<ipython-input-38-9290531ef688>:71: FutureWarning: The frame.append method is deprecated and will be removed from pandas in a future version. Use pandas.concat instead.\n",
            "  results_df = results_df.append({\n",
            "<ipython-input-38-9290531ef688>:71: FutureWarning: The frame.append method is deprecated and will be removed from pandas in a future version. Use pandas.concat instead.\n",
            "  results_df = results_df.append({\n",
            "<ipython-input-38-9290531ef688>:71: FutureWarning: The frame.append method is deprecated and will be removed from pandas in a future version. Use pandas.concat instead.\n",
            "  results_df = results_df.append({\n",
            "<ipython-input-38-9290531ef688>:71: FutureWarning: The frame.append method is deprecated and will be removed from pandas in a future version. Use pandas.concat instead.\n",
            "  results_df = results_df.append({\n",
            "<ipython-input-38-9290531ef688>:71: FutureWarning: The frame.append method is deprecated and will be removed from pandas in a future version. Use pandas.concat instead.\n",
            "  results_df = results_df.append({\n",
            "<ipython-input-38-9290531ef688>:71: FutureWarning: The frame.append method is deprecated and will be removed from pandas in a future version. Use pandas.concat instead.\n",
            "  results_df = results_df.append({\n",
            "<ipython-input-38-9290531ef688>:71: FutureWarning: The frame.append method is deprecated and will be removed from pandas in a future version. Use pandas.concat instead.\n",
            "  results_df = results_df.append({\n",
            "<ipython-input-38-9290531ef688>:71: FutureWarning: The frame.append method is deprecated and will be removed from pandas in a future version. Use pandas.concat instead.\n",
            "  results_df = results_df.append({\n",
            "<ipython-input-38-9290531ef688>:71: FutureWarning: The frame.append method is deprecated and will be removed from pandas in a future version. Use pandas.concat instead.\n",
            "  results_df = results_df.append({\n",
            "<ipython-input-38-9290531ef688>:71: FutureWarning: The frame.append method is deprecated and will be removed from pandas in a future version. Use pandas.concat instead.\n",
            "  results_df = results_df.append({\n"
          ]
        },
        {
          "output_type": "stream",
          "name": "stdout",
          "text": [
            "     eps  attack_num  total_correct  total_adv  \\\n",
            "0   0.01           1           9865       9865   \n",
            "1   0.01           2           9865       9865   \n",
            "2   0.01           3           9865       9865   \n",
            "3   0.01           4           9865       9865   \n",
            "4   0.01           5           9865       9865   \n",
            "5   0.02           1           9865       9865   \n",
            "6   0.02           2           9865       9865   \n",
            "7   0.02           3           9865       9865   \n",
            "8   0.02           4           9865       9865   \n",
            "9   0.02           5           9865       9865   \n",
            "10  0.03           1           9865       9865   \n",
            "11  0.03           2           9865       9865   \n",
            "12  0.03           3           9865       9865   \n",
            "13  0.03           4           9865       9865   \n",
            "14  0.03           5           9865       9865   \n",
            "15  0.04           1           9865       9865   \n",
            "16  0.04           2           9865       9865   \n",
            "17  0.04           3           9865       9865   \n",
            "18  0.04           4           9865       9865   \n",
            "19  0.04           5           9865       9865   \n",
            "20  0.05           1           9865       9865   \n",
            "21  0.05           2           9865       9865   \n",
            "22  0.05           3           9865       9865   \n",
            "23  0.05           4           9865       9865   \n",
            "24  0.05           5           9865       9865   \n",
            "25  0.10           1           9865       9865   \n",
            "26  0.10           2           9865       9865   \n",
            "27  0.10           3           9865       9865   \n",
            "28  0.10           4           9865       9865   \n",
            "29  0.10           5           9865       9865   \n",
            "30  0.20           1           9865       9865   \n",
            "31  0.20           2           9865       9865   \n",
            "32  0.20           3           9865       9865   \n",
            "33  0.20           4           9865       9865   \n",
            "34  0.20           5           9865       9865   \n",
            "35  0.30           1           9865       9865   \n",
            "36  0.30           2           9865       9865   \n",
            "37  0.30           3           9865       9865   \n",
            "38  0.30           4           9865       9865   \n",
            "39  0.30           5           9865       9865   \n",
            "40  0.40           1           9865       9865   \n",
            "41  0.40           2           9865       9865   \n",
            "42  0.40           3           9865       9865   \n",
            "43  0.40           4           9865       9865   \n",
            "44  0.40           5           9865       9865   \n",
            "45  0.50           1           9865       9865   \n",
            "46  0.50           2           9865       9865   \n",
            "47  0.50           3           9865       9865   \n",
            "48  0.50           4           9865       9865   \n",
            "49  0.50           5           9865       9865   \n",
            "50  0.60           1           9865       9865   \n",
            "51  0.60           2           9865       9865   \n",
            "52  0.60           3           9865       9865   \n",
            "53  0.60           4           9865       9865   \n",
            "54  0.60           5           9865       9865   \n",
            "\n",
            "                         correct_adv_counts  \n",
            "0                                 {1: 9865}  \n",
            "1                                 {1: 9865}  \n",
            "2                                 {1: 9865}  \n",
            "3                                 {1: 9865}  \n",
            "4                                 {1: 9865}  \n",
            "5                         {1: 9144, 5: 721}  \n",
            "6                         {1: 9144, 5: 721}  \n",
            "7                         {1: 9144, 5: 721}  \n",
            "8                         {1: 9144, 5: 721}  \n",
            "9                         {1: 9144, 5: 721}  \n",
            "10                       {1: 8756, 5: 1109}  \n",
            "11                       {1: 8756, 5: 1109}  \n",
            "12                       {1: 8756, 5: 1109}  \n",
            "13                       {1: 8756, 5: 1109}  \n",
            "14                       {1: 8756, 5: 1109}  \n",
            "15                       {1: 8739, 5: 1126}  \n",
            "16                       {1: 8739, 5: 1126}  \n",
            "17                       {1: 8739, 5: 1126}  \n",
            "18                       {1: 8739, 5: 1126}  \n",
            "19                       {1: 8739, 5: 1126}  \n",
            "20                       {1: 8735, 5: 1130}  \n",
            "21                       {1: 8735, 5: 1130}  \n",
            "22                       {1: 8735, 5: 1130}  \n",
            "23                       {1: 8735, 5: 1130}  \n",
            "24                       {1: 8735, 5: 1130}  \n",
            "25                       {1: 8512, 5: 1353}  \n",
            "26                       {1: 8512, 5: 1353}  \n",
            "27                       {1: 8512, 5: 1353}  \n",
            "28                       {1: 8512, 5: 1353}  \n",
            "29                       {1: 8512, 5: 1353}  \n",
            "30                       {1: 6911, 5: 2954}  \n",
            "31                       {1: 6911, 5: 2954}  \n",
            "32                       {1: 6911, 5: 2954}  \n",
            "33                       {1: 6911, 5: 2954}  \n",
            "34                       {1: 6911, 5: 2954}  \n",
            "35    {1: 5219, 2: 45, 3: 6, 5: 4593, 7: 2}  \n",
            "36    {1: 5219, 2: 45, 3: 6, 5: 4593, 7: 2}  \n",
            "37    {1: 5219, 2: 45, 3: 6, 5: 4593, 7: 2}  \n",
            "38    {1: 5219, 2: 45, 3: 6, 5: 4593, 7: 2}  \n",
            "39    {1: 5219, 2: 45, 3: 6, 5: 4593, 7: 2}  \n",
            "40  {1: 3701, 2: 192, 3: 10, 5: 5958, 7: 4}  \n",
            "41  {1: 3701, 2: 192, 3: 10, 5: 5958, 7: 4}  \n",
            "42  {1: 3701, 2: 192, 3: 10, 5: 5958, 7: 4}  \n",
            "43  {1: 3701, 2: 192, 3: 10, 5: 5958, 7: 4}  \n",
            "44  {1: 3701, 2: 192, 3: 10, 5: 5958, 7: 4}  \n",
            "45  {1: 2522, 2: 342, 3: 20, 5: 6977, 7: 4}  \n",
            "46  {1: 2522, 2: 342, 3: 20, 5: 6977, 7: 4}  \n",
            "47  {1: 2522, 2: 342, 3: 20, 5: 6977, 7: 4}  \n",
            "48  {1: 2522, 2: 342, 3: 20, 5: 6977, 7: 4}  \n",
            "49  {1: 2522, 2: 342, 3: 20, 5: 6977, 7: 4}  \n",
            "50  {1: 1675, 2: 472, 3: 45, 5: 7670, 7: 3}  \n",
            "51  {1: 1675, 2: 472, 3: 45, 5: 7670, 7: 3}  \n",
            "52  {1: 1675, 2: 472, 3: 45, 5: 7670, 7: 3}  \n",
            "53  {1: 1675, 2: 472, 3: 45, 5: 7670, 7: 3}  \n",
            "54  {1: 1675, 2: 472, 3: 45, 5: 7670, 7: 3}  \n"
          ]
        },
        {
          "output_type": "stream",
          "name": "stderr",
          "text": [
            "<ipython-input-38-9290531ef688>:71: FutureWarning: The frame.append method is deprecated and will be removed from pandas in a future version. Use pandas.concat instead.\n",
            "  results_df = results_df.append({\n"
          ]
        }
      ]
    }
  ],
  "metadata": {
    "colab": {
      "provenance": []
    },
    "kernelspec": {
      "display_name": "Python 3",
      "name": "python3"
    },
    "language_info": {
      "name": "python"
    }
  },
  "nbformat": 4,
  "nbformat_minor": 0
}