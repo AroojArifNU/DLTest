{
 "cells": [
  {
   "cell_type": "code",
   "execution_count": 1,
   "id": "initial_id",
   "metadata": {
    "ExecuteTime": {
     "end_time": "2023-10-13T09:58:17.744324200Z",
     "start_time": "2023-10-13T09:58:14.461876Z"
    }
   },
   "outputs": [],
   "source": [
    "import math\n",
    "import numpy as np\n",
    "\n",
    "from sklearn.datasets import fetch_openml\n",
    "import tensorflow as tf\n"
   ]
  },
  {
   "cell_type": "code",
   "execution_count": 2,
   "id": "7f32ca7f10c50c66",
   "metadata": {
    "ExecuteTime": {
     "end_time": "2023-10-13T09:58:17.997904100Z",
     "start_time": "2023-10-13T09:58:17.744324200Z"
    }
   },
   "outputs": [],
   "source": [
    "# Load the MNIST data and spilt into training and test sets\n",
    "\n",
    "mnist = fetch_openml('mnist_784', version = 1, as_frame=False, parser='liac-arff')\n",
    "\n",
    "X, y = mnist['data'], mnist['target']\n",
    "\n",
    "X_train, X_test = X[:60000]/255, X[60000:]/255\n",
    "y_train, y_test = y[:60000], y[60000:]"
   ]
  },
  {
   "cell_type": "code",
   "execution_count": 3,
   "id": "3a62fd95aeaa64c2",
   "metadata": {
    "ExecuteTime": {
     "end_time": "2023-10-13T09:58:18.107158200Z",
     "start_time": "2023-10-13T09:58:17.997904100Z"
    }
   },
   "outputs": [],
   "source": [
    "# Split the 70000 examples into test and training sets\n",
    "X_train_list, X_test_list = X[0:60000]/255, X[60000:]/255\n",
    "y_train_list, y_test_list = y[0:60000], y[60000:]\n",
    "\n",
    "X_train = tf.constant(X_train_list, dtype = tf.dtypes.float32)\n",
    "X_test  = tf.constant(X_test_list,  dtype = tf.dtypes.float32)"
   ]
  },
  {
   "cell_type": "markdown",
   "id": "2872a820-c0bb-42f5-a130-e6c22bc7699b",
   "metadata": {},
   "source": [
    "# Define Network\n",
    "\n",
    "Network is fully connected with 3 layers:\n",
    "\n",
    "    Input layer of 784 (28 x 28) nodes\n",
    "    Hidden layer of 64 nodes\n",
    "    Output layer of 10 nodes.\n",
    "\n",
    "Weights are randomised (biases have been removed from the network).\n",
    "\n",
    "$$ w[0] = \\begin{pmatrix} w_{1\\ 1} & w_{1\\ 2} &... & w_{1\\ 784} \\\\ \n",
    "                       w_{2\\ 1} & w_{2\\ 2} & ... & w_{2\\ 784}\\\\ \n",
    "                      ... & ... & ... & ...\\\\ \n",
    "                       w_{64\\ 1} & w_{64\\ 2} & ... & w_{64\\ 784}\\end{pmatrix} $$\n",
    "\n",
    "$$w[1] = \\begin{pmatrix} w_{1\\ 1} & w_{1\\ 2} &... & w_{1\\ 64} \\\\ \n",
    "                       w_{2\\ 1} & w_{2\\ 2} & ... & w_{2\\ 64}\\\\ \n",
    "                      ... & ... & ... & ...\\\\ \n",
    "                       w_{10\\ 1} & w_{10\\ 2} & ... & w_{10\\ 64}\\end{pmatrix} $$\r\n",
    "\\]\n",
    "\n"
   ]
  },
  {
   "cell_type": "code",
   "execution_count": 4,
   "id": "425bbf4836e9237c",
   "metadata": {
    "ExecuteTime": {
     "end_time": "2023-10-13T09:58:18.138796Z",
     "start_time": "2023-10-13T09:58:18.107158200Z"
    }
   },
   "outputs": [],
   "source": [
    "layer_nodes = (784, 64, 10)\n",
    "\n",
    "network_weights = []\n",
    "\n",
    "for layer, nodes in enumerate(layer_nodes[:-1]):\n",
    "\n",
    "    network_weights.append(tf.random.uniform(shape=(layer_nodes[layer + 1], nodes), minval=-0.085, maxval=0.085, dtype = tf.dtypes.float32))\n",
    "  \n"
   ]
  },
  {
   "cell_type": "markdown",
   "id": "ffac6721-eeb5-4d71-88eb-77d717e3778d",
   "metadata": {},
   "source": [
    "# Feed Foreward\n",
    "\n",
    "The input matrix has one column / image\n",
    "\n",
    "\n",
    "$$ input\\ s = \\begin{pmatrix} pixel_{1\\ 1} & pixel_{1\\ 2} &... & pixel_{1\\ 1000} \\\\ \n",
    "                       pixel_{2\\ 1} & pixel_{2\\ 2} & ... & pixel_{2\\ 1000}\\\\ \n",
    "                      ... & ... & ... & ...\\\\ \n",
    "                       pixel_{784\\ 1} & pixel_{784\\ 2} & ... & pixel_{64\\ 1000}\\end{pmatrix} $$\n",
    "$$\\eta_j =  \\sum_{i=1}^{784}s_{i}w_{ij}$$\n",
    "\n",
    "\n",
    "$$ hidden\\ h_{j} = \\sigma( \\eta_j) \\ \\ \\ \\ \\ \\  \\sigma(z) = \\frac{1} {1 + e^{-z}}$$\n",
    "\n",
    "$$ output\\ \\ S(z_i) = \\frac{e^{z_{i}}}{\\sum_{j=1}^{10} e^{z_{j}}} \\ \\ \\ for\\ i=1,2,\\dots,10  \\ \\ \\ \\ z_{j} = \\sum_{i=1}^{64}h_{j}w_{ij}\\ \\ \\ $$\n"
   ]
  },
  {
   "cell_type": "code",
   "execution_count": 5,
   "id": "1f06806930dd00b8",
   "metadata": {
    "ExecuteTime": {
     "end_time": "2023-10-13T09:58:18.154427Z",
     "start_time": "2023-10-13T09:58:18.138796Z"
    }
   },
   "outputs": [],
   "source": [
    "def feedforward(input_vector):\n",
    "\n",
    "    def activation(matrix, activation=\"relu\"):\n",
    "\n",
    "        if activation == \"relu\":\n",
    "\n",
    "            activated = max(0, matrix)\n",
    "\n",
    "        elif activation == \"sigmoid\":\n",
    "\n",
    "            activated = 1 / (1 + tf.exp(-matrix))\n",
    "\n",
    "        elif activation == \"softmax\":\n",
    "          \n",
    "            activated = tf.exp(matrix) / tf.reduce_sum(tf.exp(matrix), axis=0)\n",
    "        else:\n",
    "            print(\"Unspecified activation.\")\n",
    "\n",
    "        return activated\n",
    "\n",
    "    hidden = tf.transpose(input_vector)\n",
    "\n",
    "    layers = []\n",
    "\n",
    "    layers.append(hidden)\n",
    "\n",
    "    for i, weights in enumerate(network_weights[:-1]):\n",
    "\n",
    "        hidden = activation(tf.matmul(weights, hidden), 'sigmoid')\n",
    "\n",
    "        layers.append(hidden)\n",
    "\n",
    "    output = activation(tf.matmul(network_weights[-1], hidden), 'softmax')\n",
    "\n",
    "    layers.append(output)\n",
    "\n",
    "    return layers\n"
   ]
  },
  {
   "cell_type": "code",
   "execution_count": 6,
   "id": "1e444fdf5e8339c",
   "metadata": {
    "ExecuteTime": {
     "end_time": "2023-10-13T09:58:18.170043600Z",
     "start_time": "2023-10-13T09:58:18.154427Z"
    }
   },
   "outputs": [],
   "source": [
    "def accuracy(X, y):\n",
    "\n",
    "    # Measure accuracy of network:\n",
    "\n",
    "    count, correct = 0, 0\n",
    "\n",
    "    predictions = tf.transpose(feedforward(X)[-1])\n",
    "\n",
    "    for i, prediction in enumerate(predictions):\n",
    "\n",
    "        count += 1\n",
    "\n",
    "        if int(y[i]) == np.argmax(prediction):\n",
    "\n",
    "            correct += 1\n",
    "\n",
    "    return correct / count"
   ]
  },
  {
   "cell_type": "markdown",
   "id": "f04d9a84-24f2-4e83-b62d-46acfbf84f8e",
   "metadata": {},
   "source": [
    "## Pre-training\n",
    "\n",
    "On an untrained netork accuracy should be around 10%!"
   ]
  },
  {
   "cell_type": "code",
   "execution_count": 7,
   "id": "b9c4c6cd2117de93",
   "metadata": {
    "ExecuteTime": {
     "end_time": "2023-10-13T09:58:19.910611900Z",
     "start_time": "2023-10-13T09:58:18.170043600Z"
    }
   },
   "outputs": [
    {
     "name": "stdout",
     "output_type": "stream",
     "text": [
      "Pre-training  9.42\n"
     ]
    }
   ],
   "source": [
    "print('Pre-training ', 100 * accuracy(X_test, y_test_list))"
   ]
  },
  {
   "cell_type": "markdown",
   "id": "dc29589f-8bad-4796-86b9-c805c53840b3",
   "metadata": {},
   "source": [
    "## Calculate Neuron Activations\n",
    "\n",
    "layers[] is a list of 3 tensors corresponding to the input, the hidden and the output neurons."
   ]
  },
  {
   "cell_type": "markdown",
   "id": "c7ed8d62-e373-4cf2-9412-c50f22972ac3",
   "metadata": {},
   "source": [
    "## Gradients, Targets, Deltas and Weight Updates\n",
    "\n",
    "$$ \\sigma'(h_{i}) = h_i(1-h_i)$$\n",
    "\n",
    "The target vector is a one-hot vector, and represents the correct probability distribution of the classification.\n",
    "\n",
    "$$ target\\  t_k = \\begin{pmatrix} 0 & 1 & ...\\\\ 0 & 0 & ... \\\\ 1 & 0 & ...\\\\0 & 0 & ... \\\\  ... &... &...\\end{pmatrix} $$\n",
    "\n",
    "The cross entropy measures increases with distance between 2 probability distributions.\n",
    "$$Cross\\ Entropy\\ Error\\ CE_j = y_j \\log o_j$$\n",
    "Output Layer Deltas:\n",
    "$$\\delta_k =  \\frac{\\partial }{\\partial o_k} CE = -(t_k - o_k)$$\n",
    "Hidden Layer Deltas\n",
    "$$\\delta_j = (\\sum_k\\delta_kw_{jk})h_j(1-h_j) $$\n",
    "\n",
    "Weight Changes\n",
    "$$\\Delta w_{ij} = -\\delta_j h_i $$\n"
   ]
  },
  {
   "cell_type": "code",
   "execution_count": 8,
   "id": "d9d4f7d5537f95c8",
   "metadata": {
    "ExecuteTime": {
     "end_time": "2023-10-13T09:58:19.973503900Z",
     "start_time": "2023-10-13T09:58:19.926622500Z"
    }
   },
   "outputs": [],
   "source": [
    "def train(input_vector_image, input_vector_labels):\n",
    "\n",
    "    batch_size = len(input_vector_image)\n",
    "    layers = feedforward(input_vector_image)\n",
    "    output = layers[2]\n",
    "    \n",
    "\n",
    "    depth  = len(layers)\n",
    "    deltas    = [None] * depth\n",
    "    DWeights  = [None] * (depth - 1)\n",
    "    DBiases   = [None] * (depth -1)\n",
    "    Gradients = [None] * (depth - 1)\n",
    "    \n",
    "    Gradients[1] = layers[1] * (1 - layers[1])\n",
    "    Gradients[0] = layers[0] * (1 - layers[0])\n",
    "    \n",
    "    epsilon = 0.4\n",
    "    \n",
    "    np_target = np.full((layer_nodes[-1], len(input_vector_labels)), 0.00)\n",
    "    for i, targ in enumerate(input_vector_labels): np_target[int(targ)][i] = 1.0\n",
    "    target     = tf.constant(np_target, dtype=tf.dtypes.float32)\n",
    "\n",
    "    cross_entropy_loss = output - target\n",
    "\n",
    "    #calculate errors and backpropogate through the network using gradient descent\n",
    "    deltas[2] = -epsilon * cross_entropy_loss\n",
    "    deltas[1] = tf.matmul(tf.transpose(network_weights[1]), deltas[2]) * Gradients[1]\n",
    "    deltas[0] = tf.matmul(tf.transpose(network_weights[0]), deltas[1]) * Gradients[0]\n",
    "\n",
    "    DWeights[1] = tf.tensordot(deltas[2], tf.transpose(layers[1]), axes=1)\n",
    "    DWeights[0] = tf.tensordot(deltas[1], tf.transpose(layers[0]), axes=1)\n",
    "    \n",
    "    network_weights[1] = network_weights[1] + (1/batch_size) * DWeights[1]\n",
    "    network_weights[0] = network_weights[0] + (1/batch_size) * DWeights[0]\n",
    "\n"
   ]
  },
  {
   "cell_type": "markdown",
   "id": "0ba9e5b6-00de-44f0-99b9-adc001c83db3",
   "metadata": {},
   "source": [
    "# Minibatch Training \n",
    "\n",
    "Loop over 5 epochs, processing 32 items at a time!"
   ]
  },
  {
   "cell_type": "code",
   "execution_count": 9,
   "id": "9308fa9895c7d4f8",
   "metadata": {
    "ExecuteTime": {
     "end_time": "2023-10-13T09:58:20.136676400Z",
     "start_time": "2023-10-13T09:58:20.121046100Z"
    }
   },
   "outputs": [],
   "source": [
    "epochs = 5\n",
    "\n",
    "batch_size = 32\n",
    "\n",
    "for epoch in range(epochs):\n",
    "    \n",
    "    for batch_start in range(0, len(X_train), batch_size):\n",
    "        \n",
    "        train(X_train[batch_start: batch_start + batch_size], y_train[batch_start: batch_start +batch_size])\n",
    "\n",
    "\n",
    "\n",
    "\n"
   ]
  },
  {
   "cell_type": "code",
   "execution_count": 10,
   "id": "5661b2e26877ecf2",
   "metadata": {
    "ExecuteTime": {
     "end_time": "2023-10-13T09:58:21.723023700Z",
     "start_time": "2023-10-13T09:58:20.136676400Z"
    }
   },
   "outputs": [
    {
     "name": "stdout",
     "output_type": "stream",
     "text": [
      "Post-training  96.77\n"
     ]
    }
   ],
   "source": [
    "print('Post-training ', 100 * accuracy(X_test, y_test_list))"
   ]
  },
  {
   "cell_type": "code",
   "execution_count": null,
   "id": "a272b1d7-fa0c-409f-b9d0-7b0ac0975948",
   "metadata": {},
   "outputs": [],
   "source": []
  }
 ],
 "metadata": {
  "kernelspec": {
   "display_name": "Python 3 (ipykernel)",
   "language": "python",
   "name": "python3"
  },
  "language_info": {
   "codemirror_mode": {
    "name": "ipython",
    "version": 3
   },
   "file_extension": ".py",
   "mimetype": "text/x-python",
   "name": "python",
   "nbconvert_exporter": "python",
   "pygments_lexer": "ipython3",
   "version": "3.10.12"
  }
 },
 "nbformat": 4,
 "nbformat_minor": 5
}
